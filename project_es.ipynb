{
  "cells": [
    {
      "cell_type": "markdown",
      "id": "innocent-university",
      "metadata": {
        "id": "innocent-university"
      },
      "source": [
        "# Limpieza de bienes raíces\n",
        "\n",
        "Este es un conjunto de datos (dataset) reales que fue descargado usando técnicas de web scraping. La data contiene registros de **Fotocasa**, el cual es uno de los sitios más populares de bienes raíces en España. Por favor no hagas esto (web scraping) a no ser que sea para propósitos académicos.\n",
        "\n",
        "El dataset fue descargado hace algunos años por Henry Navarro y en ningún caso se obtuvo beneficio económico de ello.\n",
        "\n",
        "Contiene miles de datos de casas reales publicadas en la web www.fotocasa.com. Tu objetivo es extraer tanta información como sea posible con el conocimiento que tienes hasta ahora de ciencia de datos, por ejemplo ¿cuál es la casa más cara en todo el dataset?\n",
        "\n",
        "Empecemos precisamente con esa pregunta... ¡Buena suerte!"
      ]
    },
    {
      "cell_type": "markdown",
      "id": "multiple-glass",
      "metadata": {
        "id": "multiple-glass"
      },
      "source": [
        "#### Ejercicio 00. Lee el dataset assets/real_estate.csv e intenta visualizar la tabla (★☆☆)"
      ]
    },
    {
      "cell_type": "code",
      "execution_count": 4,
      "id": "frank-heath",
      "metadata": {
        "colab": {
          "base_uri": "https://localhost:8080/",
          "height": 652
        },
        "id": "frank-heath",
        "outputId": "42f0d899-5224-410b-f960-4c993d23efd9"
      },
      "outputs": [
        {
          "data": {
            "text/html": [
              "<div>\n",
              "<style scoped>\n",
              "    .dataframe tbody tr th:only-of-type {\n",
              "        vertical-align: middle;\n",
              "    }\n",
              "\n",
              "    .dataframe tbody tr th {\n",
              "        vertical-align: top;\n",
              "    }\n",
              "\n",
              "    .dataframe thead th {\n",
              "        text-align: right;\n",
              "    }\n",
              "</style>\n",
              "<table border=\"1\" class=\"dataframe\">\n",
              "  <thead>\n",
              "    <tr style=\"text-align: right;\">\n",
              "      <th></th>\n",
              "      <th>Unnamed: 0</th>\n",
              "      <th>id_realEstates</th>\n",
              "      <th>isNew</th>\n",
              "      <th>realEstate_name</th>\n",
              "      <th>phone_realEstate</th>\n",
              "      <th>url_inmueble</th>\n",
              "      <th>rooms</th>\n",
              "      <th>bathrooms</th>\n",
              "      <th>surface</th>\n",
              "      <th>price</th>\n",
              "      <th>...</th>\n",
              "      <th>level4Id</th>\n",
              "      <th>level5Id</th>\n",
              "      <th>level6Id</th>\n",
              "      <th>level7Id</th>\n",
              "      <th>level8Id</th>\n",
              "      <th>accuracy</th>\n",
              "      <th>latitude</th>\n",
              "      <th>longitude</th>\n",
              "      <th>zipCode</th>\n",
              "      <th>customZone</th>\n",
              "    </tr>\n",
              "  </thead>\n",
              "  <tbody>\n",
              "    <tr>\n",
              "      <th>0</th>\n",
              "      <td>1</td>\n",
              "      <td>153771986</td>\n",
              "      <td>False</td>\n",
              "      <td>ferrari 57 inmobiliaria</td>\n",
              "      <td>912177526.0</td>\n",
              "      <td>https://www.fotocasa.es/es/comprar/vivienda/ma...</td>\n",
              "      <td>3.0</td>\n",
              "      <td>2.0</td>\n",
              "      <td>103.0</td>\n",
              "      <td>195000</td>\n",
              "      <td>...</td>\n",
              "      <td>0</td>\n",
              "      <td>0</td>\n",
              "      <td>0</td>\n",
              "      <td>0</td>\n",
              "      <td>0</td>\n",
              "      <td>0</td>\n",
              "      <td>40,2948276786438</td>\n",
              "      <td>-3,44402412135624</td>\n",
              "      <td>NaN</td>\n",
              "      <td>NaN</td>\n",
              "    </tr>\n",
              "    <tr>\n",
              "      <th>1</th>\n",
              "      <td>2</td>\n",
              "      <td>153867863</td>\n",
              "      <td>False</td>\n",
              "      <td>tecnocasa fuenlabrada ferrocarril</td>\n",
              "      <td>916358736.0</td>\n",
              "      <td>https://www.fotocasa.es/es/comprar/vivienda/ma...</td>\n",
              "      <td>3.0</td>\n",
              "      <td>1.0</td>\n",
              "      <td>NaN</td>\n",
              "      <td>89000</td>\n",
              "      <td>...</td>\n",
              "      <td>0</td>\n",
              "      <td>0</td>\n",
              "      <td>0</td>\n",
              "      <td>0</td>\n",
              "      <td>0</td>\n",
              "      <td>1</td>\n",
              "      <td>40,28674</td>\n",
              "      <td>-3,79351</td>\n",
              "      <td>NaN</td>\n",
              "      <td>NaN</td>\n",
              "    </tr>\n",
              "    <tr>\n",
              "      <th>2</th>\n",
              "      <td>3</td>\n",
              "      <td>153430440</td>\n",
              "      <td>False</td>\n",
              "      <td>look find boadilla</td>\n",
              "      <td>916350408.0</td>\n",
              "      <td>https://www.fotocasa.es/es/comprar/vivienda/ma...</td>\n",
              "      <td>2.0</td>\n",
              "      <td>2.0</td>\n",
              "      <td>99.0</td>\n",
              "      <td>390000</td>\n",
              "      <td>...</td>\n",
              "      <td>0</td>\n",
              "      <td>0</td>\n",
              "      <td>0</td>\n",
              "      <td>0</td>\n",
              "      <td>0</td>\n",
              "      <td>0</td>\n",
              "      <td>40,4115646786438</td>\n",
              "      <td>-3,90662252135624</td>\n",
              "      <td>NaN</td>\n",
              "      <td>NaN</td>\n",
              "    </tr>\n",
              "    <tr>\n",
              "      <th>3</th>\n",
              "      <td>4</td>\n",
              "      <td>152776331</td>\n",
              "      <td>False</td>\n",
              "      <td>tecnocasa fuenlabrada ferrocarril</td>\n",
              "      <td>916358736.0</td>\n",
              "      <td>https://www.fotocasa.es/es/comprar/vivienda/ma...</td>\n",
              "      <td>3.0</td>\n",
              "      <td>1.0</td>\n",
              "      <td>86.0</td>\n",
              "      <td>89000</td>\n",
              "      <td>...</td>\n",
              "      <td>0</td>\n",
              "      <td>0</td>\n",
              "      <td>0</td>\n",
              "      <td>0</td>\n",
              "      <td>0</td>\n",
              "      <td>0</td>\n",
              "      <td>40,2853785786438</td>\n",
              "      <td>-3,79508142135624</td>\n",
              "      <td>NaN</td>\n",
              "      <td>NaN</td>\n",
              "    </tr>\n",
              "    <tr>\n",
              "      <th>4</th>\n",
              "      <td>5</td>\n",
              "      <td>153180188</td>\n",
              "      <td>False</td>\n",
              "      <td>ferrari 57 inmobiliaria</td>\n",
              "      <td>912177526.0</td>\n",
              "      <td>https://www.fotocasa.es/es/comprar/vivienda/ma...</td>\n",
              "      <td>2.0</td>\n",
              "      <td>2.0</td>\n",
              "      <td>106.0</td>\n",
              "      <td>172000</td>\n",
              "      <td>...</td>\n",
              "      <td>0</td>\n",
              "      <td>0</td>\n",
              "      <td>0</td>\n",
              "      <td>0</td>\n",
              "      <td>0</td>\n",
              "      <td>0</td>\n",
              "      <td>40,2998774864376</td>\n",
              "      <td>-3,45226301356237</td>\n",
              "      <td>NaN</td>\n",
              "      <td>NaN</td>\n",
              "    </tr>\n",
              "    <tr>\n",
              "      <th>...</th>\n",
              "      <td>...</td>\n",
              "      <td>...</td>\n",
              "      <td>...</td>\n",
              "      <td>...</td>\n",
              "      <td>...</td>\n",
              "      <td>...</td>\n",
              "      <td>...</td>\n",
              "      <td>...</td>\n",
              "      <td>...</td>\n",
              "      <td>...</td>\n",
              "      <td>...</td>\n",
              "      <td>...</td>\n",
              "      <td>...</td>\n",
              "      <td>...</td>\n",
              "      <td>...</td>\n",
              "      <td>...</td>\n",
              "      <td>...</td>\n",
              "      <td>...</td>\n",
              "      <td>...</td>\n",
              "      <td>...</td>\n",
              "      <td>...</td>\n",
              "    </tr>\n",
              "    <tr>\n",
              "      <th>15330</th>\n",
              "      <td>15331</td>\n",
              "      <td>153901377</td>\n",
              "      <td>False</td>\n",
              "      <td>infocasa consulting</td>\n",
              "      <td>911360461.0</td>\n",
              "      <td>https://www.fotocasa.es/es/comprar/vivienda/ma...</td>\n",
              "      <td>2.0</td>\n",
              "      <td>1.0</td>\n",
              "      <td>96.0</td>\n",
              "      <td>259470</td>\n",
              "      <td>...</td>\n",
              "      <td>0</td>\n",
              "      <td>0</td>\n",
              "      <td>0</td>\n",
              "      <td>0</td>\n",
              "      <td>0</td>\n",
              "      <td>0</td>\n",
              "      <td>40,45416</td>\n",
              "      <td>-3,70286</td>\n",
              "      <td>NaN</td>\n",
              "      <td>NaN</td>\n",
              "    </tr>\n",
              "    <tr>\n",
              "      <th>15331</th>\n",
              "      <td>15332</td>\n",
              "      <td>150394373</td>\n",
              "      <td>False</td>\n",
              "      <td>inmobiliaria pulpon</td>\n",
              "      <td>912788039.0</td>\n",
              "      <td>https://www.fotocasa.es/es/comprar/vivienda/ma...</td>\n",
              "      <td>3.0</td>\n",
              "      <td>1.0</td>\n",
              "      <td>150.0</td>\n",
              "      <td>165000</td>\n",
              "      <td>...</td>\n",
              "      <td>0</td>\n",
              "      <td>0</td>\n",
              "      <td>0</td>\n",
              "      <td>0</td>\n",
              "      <td>0</td>\n",
              "      <td>0</td>\n",
              "      <td>40,36652</td>\n",
              "      <td>-3,48951</td>\n",
              "      <td>NaN</td>\n",
              "      <td>NaN</td>\n",
              "    </tr>\n",
              "    <tr>\n",
              "      <th>15332</th>\n",
              "      <td>15333</td>\n",
              "      <td>153901397</td>\n",
              "      <td>False</td>\n",
              "      <td>tecnocasa torrelodones</td>\n",
              "      <td>912780348.0</td>\n",
              "      <td>https://www.fotocasa.es/es/comprar/vivienda/ma...</td>\n",
              "      <td>4.0</td>\n",
              "      <td>2.0</td>\n",
              "      <td>175.0</td>\n",
              "      <td>495000</td>\n",
              "      <td>...</td>\n",
              "      <td>0</td>\n",
              "      <td>0</td>\n",
              "      <td>0</td>\n",
              "      <td>0</td>\n",
              "      <td>0</td>\n",
              "      <td>0</td>\n",
              "      <td>40,57444</td>\n",
              "      <td>-3,92124</td>\n",
              "      <td>NaN</td>\n",
              "      <td>NaN</td>\n",
              "    </tr>\n",
              "    <tr>\n",
              "      <th>15333</th>\n",
              "      <td>15334</td>\n",
              "      <td>152607440</td>\n",
              "      <td>False</td>\n",
              "      <td>inmobiliaria pulpon</td>\n",
              "      <td>912788039.0</td>\n",
              "      <td>https://www.fotocasa.es/es/comprar/vivienda/ma...</td>\n",
              "      <td>3.0</td>\n",
              "      <td>2.0</td>\n",
              "      <td>101.0</td>\n",
              "      <td>195000</td>\n",
              "      <td>...</td>\n",
              "      <td>0</td>\n",
              "      <td>0</td>\n",
              "      <td>0</td>\n",
              "      <td>0</td>\n",
              "      <td>0</td>\n",
              "      <td>0</td>\n",
              "      <td>40,36967</td>\n",
              "      <td>-3,48105</td>\n",
              "      <td>NaN</td>\n",
              "      <td>NaN</td>\n",
              "    </tr>\n",
              "    <tr>\n",
              "      <th>15334</th>\n",
              "      <td>15335</td>\n",
              "      <td>153901356</td>\n",
              "      <td>False</td>\n",
              "      <td>infocasa consulting</td>\n",
              "      <td>911360461.0</td>\n",
              "      <td>https://www.fotocasa.es/es/comprar/vivienda/ma...</td>\n",
              "      <td>3.0</td>\n",
              "      <td>2.0</td>\n",
              "      <td>152.0</td>\n",
              "      <td>765000</td>\n",
              "      <td>...</td>\n",
              "      <td>0</td>\n",
              "      <td>0</td>\n",
              "      <td>0</td>\n",
              "      <td>0</td>\n",
              "      <td>0</td>\n",
              "      <td>0</td>\n",
              "      <td>40,45773</td>\n",
              "      <td>-3,69068</td>\n",
              "      <td>NaN</td>\n",
              "      <td>NaN</td>\n",
              "    </tr>\n",
              "  </tbody>\n",
              "</table>\n",
              "<p>15335 rows × 37 columns</p>\n",
              "</div>"
            ],
            "text/plain": [
              "       Unnamed: 0  id_realEstates  isNew                    realEstate_name  \\\n",
              "0               1       153771986  False            ferrari 57 inmobiliaria   \n",
              "1               2       153867863  False  tecnocasa fuenlabrada ferrocarril   \n",
              "2               3       153430440  False                 look find boadilla   \n",
              "3               4       152776331  False  tecnocasa fuenlabrada ferrocarril   \n",
              "4               5       153180188  False            ferrari 57 inmobiliaria   \n",
              "...           ...             ...    ...                                ...   \n",
              "15330       15331       153901377  False                infocasa consulting   \n",
              "15331       15332       150394373  False                inmobiliaria pulpon   \n",
              "15332       15333       153901397  False             tecnocasa torrelodones   \n",
              "15333       15334       152607440  False                inmobiliaria pulpon   \n",
              "15334       15335       153901356  False                infocasa consulting   \n",
              "\n",
              "       phone_realEstate                                       url_inmueble  \\\n",
              "0           912177526.0  https://www.fotocasa.es/es/comprar/vivienda/ma...   \n",
              "1           916358736.0  https://www.fotocasa.es/es/comprar/vivienda/ma...   \n",
              "2           916350408.0  https://www.fotocasa.es/es/comprar/vivienda/ma...   \n",
              "3           916358736.0  https://www.fotocasa.es/es/comprar/vivienda/ma...   \n",
              "4           912177526.0  https://www.fotocasa.es/es/comprar/vivienda/ma...   \n",
              "...                 ...                                                ...   \n",
              "15330       911360461.0  https://www.fotocasa.es/es/comprar/vivienda/ma...   \n",
              "15331       912788039.0  https://www.fotocasa.es/es/comprar/vivienda/ma...   \n",
              "15332       912780348.0  https://www.fotocasa.es/es/comprar/vivienda/ma...   \n",
              "15333       912788039.0  https://www.fotocasa.es/es/comprar/vivienda/ma...   \n",
              "15334       911360461.0  https://www.fotocasa.es/es/comprar/vivienda/ma...   \n",
              "\n",
              "       rooms  bathrooms  surface   price  ... level4Id level5Id level6Id  \\\n",
              "0        3.0        2.0    103.0  195000  ...        0        0        0   \n",
              "1        3.0        1.0      NaN   89000  ...        0        0        0   \n",
              "2        2.0        2.0     99.0  390000  ...        0        0        0   \n",
              "3        3.0        1.0     86.0   89000  ...        0        0        0   \n",
              "4        2.0        2.0    106.0  172000  ...        0        0        0   \n",
              "...      ...        ...      ...     ...  ...      ...      ...      ...   \n",
              "15330    2.0        1.0     96.0  259470  ...        0        0        0   \n",
              "15331    3.0        1.0    150.0  165000  ...        0        0        0   \n",
              "15332    4.0        2.0    175.0  495000  ...        0        0        0   \n",
              "15333    3.0        2.0    101.0  195000  ...        0        0        0   \n",
              "15334    3.0        2.0    152.0  765000  ...        0        0        0   \n",
              "\n",
              "      level7Id level8Id accuracy          latitude          longitude zipCode  \\\n",
              "0            0        0        0  40,2948276786438  -3,44402412135624     NaN   \n",
              "1            0        0        1          40,28674           -3,79351     NaN   \n",
              "2            0        0        0  40,4115646786438  -3,90662252135624     NaN   \n",
              "3            0        0        0  40,2853785786438  -3,79508142135624     NaN   \n",
              "4            0        0        0  40,2998774864376  -3,45226301356237     NaN   \n",
              "...        ...      ...      ...               ...                ...     ...   \n",
              "15330        0        0        0          40,45416           -3,70286     NaN   \n",
              "15331        0        0        0          40,36652           -3,48951     NaN   \n",
              "15332        0        0        0          40,57444           -3,92124     NaN   \n",
              "15333        0        0        0          40,36967           -3,48105     NaN   \n",
              "15334        0        0        0          40,45773           -3,69068     NaN   \n",
              "\n",
              "      customZone  \n",
              "0            NaN  \n",
              "1            NaN  \n",
              "2            NaN  \n",
              "3            NaN  \n",
              "4            NaN  \n",
              "...          ...  \n",
              "15330        NaN  \n",
              "15331        NaN  \n",
              "15332        NaN  \n",
              "15333        NaN  \n",
              "15334        NaN  \n",
              "\n",
              "[15335 rows x 37 columns]"
            ]
          },
          "execution_count": 4,
          "metadata": {},
          "output_type": "execute_result"
        }
      ],
      "source": [
        "import pandas as pd\n",
        "\n",
        "# Este archivo CSV contiene puntos y comas en lugar de comas como separadores\n",
        "ds = pd.read_csv('/workspaces/realestate-datacleanup-exercise/assets/real_estate.csv', sep=';')\n",
        "ds"
      ]
    },
    {
      "cell_type": "markdown",
      "id": "latin-guest",
      "metadata": {
        "id": "latin-guest"
      },
      "source": [
        "#### Ejercicio 01. ¿Cuál es la casa más cara en todo el dataset? (★☆☆)\n",
        "\n",
        "Imprime la dirección y el precio de la casa seleccionada. Por ejemplo:\n",
        "\n",
        "`La casa con dirección en Calle del Prado, Nº20 es la más cara y su precio es de 5000000 USD`"
      ]
    },
    {
      "cell_type": "code",
      "execution_count": 2,
      "id": "developing-optimum",
      "metadata": {
        "colab": {
          "base_uri": "https://localhost:8080/"
        },
        "id": "developing-optimum",
        "outputId": "2f6cb0c5-13e3-4619-aa5b-3f76977b273b"
      },
      "outputs": [
        {
          "name": "stdout",
          "output_type": "stream",
          "text": [
            "La casa con direccion El Escorial , Nº 13111 es la mas cara y su precio es de: 8500000\n"
          ]
        }
      ],
      "source": [
        "#Calculando precio maximo\n",
        "precio_maximo = ds['price'].max()\n",
        "\n",
        "#Extrayendo el valor con la etiqueta precio donde es igual al precio maximo\n",
        "casa = ds.loc[ds['price'] == precio_maximo]\n",
        "\n",
        "#Extrayendo el valor unico de 'Unnamed: 0' en base al precio maximo\n",
        "numero = casa['Unnamed: 0'].iloc[0]\n",
        "\n",
        "#Extrayendo el valor unico de 'address' en base al precio maximo\n",
        "direccion = casa['address'].iloc[0]\n",
        "\n",
        "#Impresion con f\n",
        "print(f\"La casa con direccion {direccion} , Nº {numero} es la mas cara y su precio es de: {precio_maximo}\")\n"
      ]
    },
    {
      "cell_type": "markdown",
      "id": "lesser-cosmetic",
      "metadata": {
        "id": "lesser-cosmetic"
      },
      "source": [
        "#### Ejercicio 02. ¿Cuál es la casa más barata del dataset? (★☆☆)\n",
        "\n",
        "Imprime la dirección y el precio de la casa seleccionada. Por ejemplo:\n",
        "\n",
        "`La casa con dirección en Calle Alcalá, Nº58 es la más barata y su precio es de 12000 USD`"
      ]
    },
    {
      "cell_type": "code",
      "execution_count": 66,
      "id": "lovely-oasis",
      "metadata": {
        "colab": {
          "base_uri": "https://localhost:8080/"
        },
        "id": "lovely-oasis",
        "outputId": "6967295b-1b11-4561-a03f-bd1bea724cab"
      },
      "outputs": [
        {
          "name": "stdout",
          "output_type": "stream",
          "text": [
            "La casa con direccion Parla , Nº 367 es la mas barata y su precio es de: 0\n"
          ]
        }
      ],
      "source": [
        "\n",
        "#Calculando precio minimo\n",
        "precio_minimo = ds['price'].min()\n",
        "\n",
        "#Extrayendo el valor con la etiqueta precio donde es igual al precio minimo\n",
        "casa = ds.loc[ds['price'] == precio_minimo]\n",
        "\n",
        "#Extrayendo el valor unico de 'Unnamed: 0' en base al precio minimo\n",
        "numero = casa['Unnamed: 0'].iloc[0]\n",
        "\n",
        "#Extrayendo el valor unico de 'address' en base al precio minimo\n",
        "direccion = casa['address'].iloc[0]\n",
        "\n",
        "#Impresion con f\n",
        "print(f\"La casa con direccion {direccion} , Nº {numero} es la mas barata y su precio es de: {precio_minimo}\")"
      ]
    },
    {
      "cell_type": "markdown",
      "id": "compliant-fellowship",
      "metadata": {
        "id": "compliant-fellowship"
      },
      "source": [
        "#### Ejercicio 03. ¿Cuál es la casa más grande y la más pequeña del dataset? (★☆☆)\n",
        "\n",
        "Imprime la dirección y el área de las casas seleccionadas. Por ejemplo:\n",
        "\n",
        "`La casa más grande está ubicada en Calle Gran Vía, Nº38 y su superficie es de 5000 metros`\n",
        "\n",
        "`La casa más pequeña está ubicada en Calle Mayor, Nº12 y su superficie es de 200 metros`"
      ]
    },
    {
      "cell_type": "code",
      "execution_count": 67,
      "id": "every-tiffany",
      "metadata": {
        "colab": {
          "base_uri": "https://localhost:8080/"
        },
        "id": "every-tiffany",
        "outputId": "89d38259-adb0-4c2a-adf9-bff4ed7db616"
      },
      "outputs": [
        {
          "name": "stdout",
          "output_type": "stream",
          "text": [
            "La casa más grande está ubicada en Calle Sevilla la Nueva , Nº 6795 y su superficie es de: 249000.0\n",
            "La casa más grande está ubicada en Calle Calle Amparo,  Madrid Capital , Nº 499 y su superficie es de: 15.0\n"
          ]
        }
      ],
      "source": [
        "#Calculando superficie maxima\n",
        "superficie_grande = ds['surface'].max()\n",
        "#Calculando superficie minima\n",
        "superficie_pequena = ds['surface'].min()\n",
        "\n",
        "\n",
        "#Extrayendo el valor con la etiqueta 'surface'  donde es igual a superficie_grande\n",
        "superficie_g = ds.loc[ds['surface'] == superficie_grande]\n",
        "#Extrayendo el valor con la etiqueta 'surface'  donde es igual a superficie_pequeña\n",
        "superficie_p = ds.loc[ds['surface'] == superficie_pequena]\n",
        "\n",
        "\n",
        "#Extrayendo el valor unico de 'Unnamed: 0' en base a superficie_g\n",
        "numero_g = superficie_g['Unnamed: 0'].iloc[0]\n",
        "#Extrayendo el valor unico de 'address' en base a superficie_g\n",
        "direccion_g = superficie_g['address'].iloc[0]\n",
        "#Extrayendo el valor unico de 'Unnamed: 0' en base a superficie_p\n",
        "numero_p = superficie_p['Unnamed: 0'].iloc[0]\n",
        "#Extrayendo el valor unico de 'address' en base a superficie_p\n",
        "direccion_p = superficie_p['address'].iloc[0]\n",
        "\n",
        "#Impresiones con f\n",
        "print(f\"La casa más grande está ubicada en Calle {direccion_g} , Nº {numero_g} y su superficie es de: {superficie_grande}\")\n",
        "print(f\"La casa más grande está ubicada en Calle {direccion_p} , Nº {numero_p} y su superficie es de: {superficie_pequena}\")\n",
        "\n",
        "\n",
        "\n"
      ]
    },
    {
      "cell_type": "markdown",
      "id": "danish-spirit",
      "metadata": {
        "id": "danish-spirit"
      },
      "source": [
        "#### Ejercicio 04. ¿Cuantas poblaciones (columna level5) contiene el dataset? (★☆☆)\n",
        "\n",
        "Imprime el nombre de las poblaciones separadas por coma. Por ejemplo:\n",
        "\n",
        "`> print(populations)`\n",
        "\n",
        "`population1, population2, population3, ...`"
      ]
    },
    {
      "cell_type": "code",
      "execution_count": 68,
      "id": "exciting-accreditation",
      "metadata": {
        "colab": {
          "base_uri": "https://localhost:8080/"
        },
        "id": "exciting-accreditation",
        "outputId": "20db2e18-5c97-4ec2-badb-23ba6773c50d"
      },
      "outputs": [
        {
          "name": "stdout",
          "output_type": "stream",
          "text": [
            " Madrid Capital,Alcalá de Henares,Las Rozas de Madrid,Móstoles,Getafe,San Sebastián de los Reyes,Boadilla del Monte,Parla,Valdemoro,Torrejón de Ardoz,Pozuelo de Alarcón,Alcobendas,Fuenlabrada,Collado Villalba,Arganda del Rey,Leganés,Alcorcón,Coslada,Villaviciosa de Odón,Pinto,Majadahonda,Aranjuez,Arroyomolinos (Madrid),Rivas-vaciamadrid,Torrelodones,Navalcarnero,El Escorial,Ciempozuelos,Galapagar,Velilla de San Antonio,Moralzarzal,San Lorenzo de El Escorial,Villanueva de la Cañada,Villanueva del Pardillo,San Martín de la Vega,Colmenar Viejo,El Álamo,Villalbilla,Miraflores de la Sierra,Humanes de Madrid,Alpedrete,Valdemorillo,Mejorada del Campo,Torrejón de la Calzada,Paracuellos de Jarama,Guadarrama,San Fernando de Henares,Meco,Camarma de Esteruelas,Tres Cantos,Algete,San Martín de Valdeiglesias,Robledo de Chavela,El Molar (Madrid),Manzanares El Real,Brunete,Loeches,Villa del Prado,Torres de la Alameda,Campo Real,Griñón,Daganzo de Arriba,Cubas de la Sagra,Soto del Real,Hoyo de Manzanares,El Boalo - Cerceda – Mataelpino,Colmenar de Oreja,Tielmes,San Agustín del Guadalix,Pedrezuela,Chinchón,Los Santos de la Humosa,Guadalix de la Sierra,Collado Mediano,Villarejo de Salvanés,Sevilla la Nueva,Pelayos de la Presa,Torrejón de Velasco,Ajalvir,Colmenarejo,Villamantilla,Talamanca de Jarama,Becerril de la Sierra,Quijorna,Morata de Tajuña,Navalagamella,Carabaña,Moraleja de Enmedio,Serranillos del Valle,Pozuelo del Rey,Valdetorres de Jarama,Cenicientos,Fresno de Torote - Serracines,Valdilecha,Valdeavero,Aldea del Fresno,Fuentidueña de Tajo,Ribatejada,Los Molinos,Venturada,Nuevo Baztán,Casarrubuelos,Gargantilla del Lozoya,Valdeolmos-Alalpardo,Cadalso de los Vidrios,Cercedilla,Titulcia,Torrelaguna,Orusco de Tajuña,Fuente El Saz de Jarama,Pezuela de las Torres,Cobeña,Corpa,Valdemaqueda,Belmonte de Tajo,Redueña,Bustarviejo,Fresnedillas de la Oliva,Santa María de la Alameda,Villamanta,Villar del Olmo,Garganta de los Montes,Villavieja del Lozoya,Valdelaguna,Navacerrada,Navas del Rey,Perales de Tajuña,Villanueva de Perales,Santorcaz,El Berrueco,Valdemanco,El Vellón,La Cabrera,Estremera,Cabanillas de la Sierra,Colmenar del Arroyo,Lozoyuela-navas-sieteiglesias,Buitrago del Lozoya,Valdepiélagos,Batres,Chapinería,Horcajo de la Sierra,Anchuelo,Valdaracete,Zarzalejo,Patones,Villamanrique de Tajo,Villaconejos,Valverde de Alcalá,Gascones,Puentes Viejas,Torremocha de Jarama,Robregordo,El Atazar,Madarcos,Braojos,Brea de Tajo,Piñuécar-gandullas,Ambite,Navarredonda,Canencia,Lozoya,Navalafuente,Fresno de Torote,Pinilla del Valle,Rascafría,La Hiruela,Montejo de la Sierra\n"
          ]
        }
      ],
      "source": [
        "#Contando los valores cada valor único en una columna\n",
        "numero_poblaciones = ds['level5'].value_counts()\n",
        "\n",
        "#accediendo al indice de los valores unicos\n",
        "poblaciones_unicas= numero_poblaciones.index\n",
        "\n",
        "#convierte los indices de poblaciones_unicas en un str y luego en una lista con tolist\n",
        "list_poblaciones = poblaciones_unicas.astype(str).tolist()\n",
        "\n",
        "#Separando con comas la lista de poblaciones\n",
        "separacion = ','.join(list_poblaciones)\n",
        "print(separacion)\n"
      ]
    },
    {
      "cell_type": "markdown",
      "id": "crazy-blame",
      "metadata": {
        "id": "crazy-blame"
      },
      "source": [
        "#### Ejercicio 05. ¿El dataset contiene valores no admitidos (NAs)? (★☆☆)\n",
        "\n",
        "Imprima un booleano (`True` o `False`) seguido de la fila/columna que contiene el NAs."
      ]
    },
    {
      "cell_type": "code",
      "execution_count": 69,
      "id": "transparent-poetry",
      "metadata": {
        "colab": {
          "base_uri": "https://localhost:8080/"
        },
        "id": "transparent-poetry",
        "outputId": "45ab8d08-6047-4a7b-f57c-085a56243467"
      },
      "outputs": [
        {
          "name": "stdout",
          "output_type": "stream",
          "text": [
            "Unnamed: 0          False\n",
            "id_realEstates      False\n",
            "isNew               False\n",
            "realEstate_name      True\n",
            "phone_realEstate     True\n",
            "url_inmueble        False\n",
            "rooms                True\n",
            "bathrooms            True\n",
            "surface              True\n",
            "price               False\n",
            "date                False\n",
            "description          True\n",
            "address             False\n",
            "country             False\n",
            "level1              False\n",
            "level2              False\n",
            "level3              False\n",
            "level4               True\n",
            "level5              False\n",
            "level6               True\n",
            "level7               True\n",
            "level8               True\n",
            "upperLevel          False\n",
            "countryId           False\n",
            "level1Id            False\n",
            "level2Id            False\n",
            "level3Id            False\n",
            "level4Id            False\n",
            "level5Id            False\n",
            "level6Id            False\n",
            "level7Id            False\n",
            "level8Id            False\n",
            "accuracy            False\n",
            "latitude            False\n",
            "longitude           False\n",
            "zipCode              True\n",
            "customZone           True\n",
            "dtype: bool\n"
          ]
        }
      ],
      "source": [
        "import numpy as np\n",
        "\n",
        "valores_nulos = ds.isin([np.nan]).any()\n",
        "print(valores_nulos)\n"
      ]
    },
    {
      "cell_type": "markdown",
      "id": "italic-hydrogen",
      "metadata": {
        "id": "italic-hydrogen"
      },
      "source": [
        "#### Ejercicio 06. Elimina los NAs del dataset, si aplica (★★☆)\n",
        "\n",
        "Imprima una comparación entre las dimensiones del DataFrame original versus el DataFrame después de las eliminaciones.\n"
      ]
    },
    {
      "cell_type": "code",
      "execution_count": 70,
      "id": "administrative-roads",
      "metadata": {
        "colab": {
          "base_uri": "https://localhost:8080/"
        },
        "id": "administrative-roads",
        "outputId": "f15d9c3d-62e9-4fe8-bf92-82963bdc21e6"
      },
      "outputs": [
        {
          "name": "stdout",
          "output_type": "stream",
          "text": [
            "Tamaño del DataFrame antes de eliminar NAs: (15335, 37)\n",
            "Tamaño del DataFrame después de eliminar NAs: (0, 37)\n"
          ]
        }
      ],
      "source": [
        "#Imprimiendo el conteo mas la suma de ese conteo de dataframe\n",
        "print(f\"Tamaño del DataFrame antes de eliminar NAs: {ds.shape}\")\n",
        "\n",
        "#Eliminando valores nulos del dataframe\n",
        "eliminar_valores_nulos = ds.dropna()\n",
        "\n",
        "#Imprimiendo valores no nulos\n",
        "print(f\"Tamaño del DataFrame después de eliminar NAs: {eliminar_valores_nulos.shape}\")\n"
      ]
    },
    {
      "cell_type": "markdown",
      "id": "middle-china",
      "metadata": {
        "id": "middle-china"
      },
      "source": [
        "#### Ejercicio 07. ¿Cuál la media de precios en la población (columna level5) de \"Arroyomolinos (Madrid)\"? (★★☆)\n",
        "\n",
        "Imprima el valor obtenido."
      ]
    },
    {
      "cell_type": "code",
      "execution_count": 71,
      "id": "nuclear-belief",
      "metadata": {
        "colab": {
          "base_uri": "https://localhost:8080/"
        },
        "id": "nuclear-belief",
        "outputId": "6245108a-6bb1-4cb1-fa96-c495d19606aa"
      },
      "outputs": [
        {
          "name": "stdout",
          "output_type": "stream",
          "text": [
            "El precio promedio para la poblacion de Arroyomolinos (Madrid) es de: 294541.59854014596 Euros \n"
          ]
        }
      ],
      "source": [
        "\n",
        "#Accediendo a la columna 'level5' donde los valores son todos los de la poblacion \"Arroyomolinos (Madrid)\"\n",
        "poblacion = ds[ds['level5'] == \"Arroyomolinos (Madrid)\"]  #mismo resultado poblacion = ds.loc[ds['level5'] == \"Arroyomolinos (Madrid)\"]\n",
        "\n",
        "#Calculando precio medio de la poblacion \"Arroyomolinos (Madrid)\" de la columna 'level5'\n",
        "precio_medio = poblacion['price'].mean()\n",
        "\n",
        "#Impresiones con f\n",
        "print(f\"El precio promedio para la poblacion de Arroyomolinos (Madrid) es de: {precio_medio} Euros \")\n",
        "\n"
      ]
    },
    {
      "cell_type": "markdown",
      "id": "concerned-radical",
      "metadata": {
        "id": "concerned-radical"
      },
      "source": [
        "#### Ejercicio 08. Trazar el histograma de los precios para la población (level5 column) de \"Arroyomolinos (Madrid)\" y explica qué observas (★★☆)\n",
        "\n",
        "Imprime el histograma de los precios y escribe en la celda del Markdown un breve análisis del trazado.\n"
      ]
    },
    {
      "cell_type": "code",
      "execution_count": 72,
      "id": "sudden-message",
      "metadata": {
        "colab": {
          "base_uri": "https://localhost:8080/",
          "height": 487
        },
        "id": "sudden-message",
        "outputId": "90e8f660-6c01-43c1-e76a-6a839361d20a"
      },
      "outputs": [
        {
          "data": {
            "image/png": "[encoded data removed]",
            "text/plain": [
              "<Figure size 1000x500 with 1 Axes>"
            ]
          },
          "metadata": {},
          "output_type": "display_data"
        }
      ],
      "source": [
        "import matplotlib.pyplot as plt\n",
        "\n",
        "#Accediendo a la columna 'level5' donde los valores son todos los de la poblacion \"Arroyomolinos (Madrid)\"\n",
        "poblacion = ds[ds['level5'] == \"Arroyomolinos (Madrid)\"]\n",
        "\n",
        "# Precio de la poblacion \"Arroyomolinos (Madrid)\" de la columna 'level5'\n",
        "precio = poblacion['price']\n",
        "\n",
        "#Trazado del Histograma\n",
        "plt.figure(figsize= (10,5))\n",
        "plt.title(\"Histograma de Precios en Arroyomolinos (Madrid)\")\n",
        "\n",
        "#Eje x\n",
        "plt.xlabel(\"Precio\")\n",
        "\n",
        "#Eje y\n",
        "plt.ylabel(\"Frecuencia\")\n",
        "\n",
        "#Datos para el histograma\n",
        "plt.hist(precio, bins = 30, alpha = 0.7)\n",
        "plt.show()"
      ]
    },
    {
      "cell_type": "markdown",
      "id": "impressed-combination",
      "metadata": {
        "id": "impressed-combination"
      },
      "source": [
        "**TODO: Markdown**. Para escribir aquí, haz doble clic en esta celda, elimina este contenido y coloca lo que quieras escribir. Luego ejecuta la celda."
      ]
    },
    {
      "cell_type": "markdown",
      "id": "actual-edinburgh",
      "metadata": {
        "id": "actual-edinburgh"
      },
      "source": [
        "#### Ejercicio 09. ¿Son los precios promedios de \"Valdemorillo\" y \"Galapagar\" los mismos? (★★☆)\n",
        "\n",
        "Imprime ambos promedios y escribe una conclusión sobre ellos."
      ]
    },
    {
      "cell_type": "code",
      "execution_count": 73,
      "id": "numeric-commerce",
      "metadata": {
        "colab": {
          "base_uri": "https://localhost:8080/"
        },
        "id": "numeric-commerce",
        "outputId": "0ff71593-12cd-4f92-c62e-b5de56017eeb"
      },
      "outputs": [
        {
          "name": "stdout",
          "output_type": "stream",
          "text": [
            "Precio promedio de Valdemorillo es: 363860.2931034483\n",
            "Precio promedio de Galapagar es: 360063.20238095237\n",
            "El precio promedio de Valdemorillo es parecido pero no igual al de Galapagar\n"
          ]
        }
      ],
      "source": [
        "precio1 = ds[ds[\"level5\"] == \"Valdemorillo\"]\n",
        "precio_medio1 = precio1[\"price\"].mean()\n",
        "\n",
        "precio2 = ds[ds[\"level5\"] == \"Galapagar\"]\n",
        "precio_medio2 = precio2[\"price\"].mean()\n",
        "\n",
        "print(f\"Precio promedio de Valdemorillo es: {precio_medio1}\")\n",
        "print(f\"Precio promedio de Galapagar es: {precio_medio2}\")\n",
        "\n",
        "print(\"El precio promedio de Valdemorillo es parecido pero no igual al de Galapagar\")\n",
        "\n"
      ]
    },
    {
      "cell_type": "markdown",
      "id": "lonely-article",
      "metadata": {
        "id": "lonely-article"
      },
      "source": [
        "#### Ejercicio 10. ¿Son los promedios de precio por metro cuadrado (precio/m2) de \"Valdemorillo\" y \"Galapagar\" los mismos? (★★☆)\n",
        "\n",
        "Imprime ambos promedios de precio por metro cuadrado y escribe una conclusión sobre ellos.\n",
        "\n",
        "Pista: Crea una nueva columna llamada `pps` (*price per square* o precio por metro cuadrado) y luego analiza los valores."
      ]
    },
    {
      "cell_type": "code",
      "execution_count": 74,
      "id": "hourly-globe",
      "metadata": {
        "colab": {
          "base_uri": "https://localhost:8080/",
          "height": 687
        },
        "id": "hourly-globe",
        "outputId": "9f15b04f-c08d-4ff9-9250-aafd08a7af69"
      },
      "outputs": [
        {
          "name": "stdout",
          "output_type": "stream",
          "text": [
            "El precio promecio de valdemoprillo por metro cuadrado es 1039.5447972876266\n",
            "El precio promecio de Galapagar por metro cuadrado es 1178.5257998852853\n"
          ]
        },
        {
          "data": {
            "application/vnd.google.colaboratory.intrinsic+json": {
              "type": "dataframe",
              "variable_name": "ds"
            },
            "text/html": [
              "\n",
              "  <div id=\"df-32c45ea5-926e-4182-b5fa-df5302c6a314\" class=\"colab-df-container\">\n",
              "    <div>\n",
              "<style scoped>\n",
              "    .dataframe tbody tr th:only-of-type {\n",
              "        vertical-align: middle;\n",
              "    }\n",
              "\n",
              "    .dataframe tbody tr th {\n",
              "        vertical-align: top;\n",
              "    }\n",
              "\n",
              "    .dataframe thead th {\n",
              "        text-align: right;\n",
              "    }\n",
              "</style>\n",
              "<table border=\"1\" class=\"dataframe\">\n",
              "  <thead>\n",
              "    <tr style=\"text-align: right;\">\n",
              "      <th></th>\n",
              "      <th>Unnamed: 0</th>\n",
              "      <th>id_realEstates</th>\n",
              "      <th>isNew</th>\n",
              "      <th>realEstate_name</th>\n",
              "      <th>phone_realEstate</th>\n",
              "      <th>url_inmueble</th>\n",
              "      <th>rooms</th>\n",
              "      <th>bathrooms</th>\n",
              "      <th>surface</th>\n",
              "      <th>price</th>\n",
              "      <th>...</th>\n",
              "      <th>level5Id</th>\n",
              "      <th>level6Id</th>\n",
              "      <th>level7Id</th>\n",
              "      <th>level8Id</th>\n",
              "      <th>accuracy</th>\n",
              "      <th>latitude</th>\n",
              "      <th>longitude</th>\n",
              "      <th>zipCode</th>\n",
              "      <th>customZone</th>\n",
              "      <th>pps</th>\n",
              "    </tr>\n",
              "  </thead>\n",
              "  <tbody>\n",
              "    <tr>\n",
              "      <th>0</th>\n",
              "      <td>1</td>\n",
              "      <td>153771986</td>\n",
              "      <td>False</td>\n",
              "      <td>ferrari 57 inmobiliaria</td>\n",
              "      <td>912177526.0</td>\n",
              "      <td>https://www.fotocasa.es/es/comprar/vivienda/ma...</td>\n",
              "      <td>3.0</td>\n",
              "      <td>2.0</td>\n",
              "      <td>103.0</td>\n",
              "      <td>195000</td>\n",
              "      <td>...</td>\n",
              "      <td>0</td>\n",
              "      <td>0</td>\n",
              "      <td>0</td>\n",
              "      <td>0</td>\n",
              "      <td>0</td>\n",
              "      <td>40,2948276786438</td>\n",
              "      <td>-3,44402412135624</td>\n",
              "      <td>NaN</td>\n",
              "      <td>NaN</td>\n",
              "      <td>1893.203883</td>\n",
              "    </tr>\n",
              "    <tr>\n",
              "      <th>1</th>\n",
              "      <td>2</td>\n",
              "      <td>153867863</td>\n",
              "      <td>False</td>\n",
              "      <td>tecnocasa fuenlabrada ferrocarril</td>\n",
              "      <td>916358736.0</td>\n",
              "      <td>https://www.fotocasa.es/es/comprar/vivienda/ma...</td>\n",
              "      <td>3.0</td>\n",
              "      <td>1.0</td>\n",
              "      <td>NaN</td>\n",
              "      <td>89000</td>\n",
              "      <td>...</td>\n",
              "      <td>0</td>\n",
              "      <td>0</td>\n",
              "      <td>0</td>\n",
              "      <td>0</td>\n",
              "      <td>1</td>\n",
              "      <td>40,28674</td>\n",
              "      <td>-3,79351</td>\n",
              "      <td>NaN</td>\n",
              "      <td>NaN</td>\n",
              "      <td>NaN</td>\n",
              "    </tr>\n",
              "    <tr>\n",
              "      <th>2</th>\n",
              "      <td>3</td>\n",
              "      <td>153430440</td>\n",
              "      <td>False</td>\n",
              "      <td>look find boadilla</td>\n",
              "      <td>916350408.0</td>\n",
              "      <td>https://www.fotocasa.es/es/comprar/vivienda/ma...</td>\n",
              "      <td>2.0</td>\n",
              "      <td>2.0</td>\n",
              "      <td>99.0</td>\n",
              "      <td>390000</td>\n",
              "      <td>...</td>\n",
              "      <td>0</td>\n",
              "      <td>0</td>\n",
              "      <td>0</td>\n",
              "      <td>0</td>\n",
              "      <td>0</td>\n",
              "      <td>40,4115646786438</td>\n",
              "      <td>-3,90662252135624</td>\n",
              "      <td>NaN</td>\n",
              "      <td>NaN</td>\n",
              "      <td>3939.393939</td>\n",
              "    </tr>\n",
              "    <tr>\n",
              "      <th>3</th>\n",
              "      <td>4</td>\n",
              "      <td>152776331</td>\n",
              "      <td>False</td>\n",
              "      <td>tecnocasa fuenlabrada ferrocarril</td>\n",
              "      <td>916358736.0</td>\n",
              "      <td>https://www.fotocasa.es/es/comprar/vivienda/ma...</td>\n",
              "      <td>3.0</td>\n",
              "      <td>1.0</td>\n",
              "      <td>86.0</td>\n",
              "      <td>89000</td>\n",
              "      <td>...</td>\n",
              "      <td>0</td>\n",
              "      <td>0</td>\n",
              "      <td>0</td>\n",
              "      <td>0</td>\n",
              "      <td>0</td>\n",
              "      <td>40,2853785786438</td>\n",
              "      <td>-3,79508142135624</td>\n",
              "      <td>NaN</td>\n",
              "      <td>NaN</td>\n",
              "      <td>1034.883721</td>\n",
              "    </tr>\n",
              "    <tr>\n",
              "      <th>4</th>\n",
              "      <td>5</td>\n",
              "      <td>153180188</td>\n",
              "      <td>False</td>\n",
              "      <td>ferrari 57 inmobiliaria</td>\n",
              "      <td>912177526.0</td>\n",
              "      <td>https://www.fotocasa.es/es/comprar/vivienda/ma...</td>\n",
              "      <td>2.0</td>\n",
              "      <td>2.0</td>\n",
              "      <td>106.0</td>\n",
              "      <td>172000</td>\n",
              "      <td>...</td>\n",
              "      <td>0</td>\n",
              "      <td>0</td>\n",
              "      <td>0</td>\n",
              "      <td>0</td>\n",
              "      <td>0</td>\n",
              "      <td>40,2998774864376</td>\n",
              "      <td>-3,45226301356237</td>\n",
              "      <td>NaN</td>\n",
              "      <td>NaN</td>\n",
              "      <td>1622.641509</td>\n",
              "    </tr>\n",
              "    <tr>\n",
              "      <th>...</th>\n",
              "      <td>...</td>\n",
              "      <td>...</td>\n",
              "      <td>...</td>\n",
              "      <td>...</td>\n",
              "      <td>...</td>\n",
              "      <td>...</td>\n",
              "      <td>...</td>\n",
              "      <td>...</td>\n",
              "      <td>...</td>\n",
              "      <td>...</td>\n",
              "      <td>...</td>\n",
              "      <td>...</td>\n",
              "      <td>...</td>\n",
              "      <td>...</td>\n",
              "      <td>...</td>\n",
              "      <td>...</td>\n",
              "      <td>...</td>\n",
              "      <td>...</td>\n",
              "      <td>...</td>\n",
              "      <td>...</td>\n",
              "      <td>...</td>\n",
              "    </tr>\n",
              "    <tr>\n",
              "      <th>15330</th>\n",
              "      <td>15331</td>\n",
              "      <td>153901377</td>\n",
              "      <td>False</td>\n",
              "      <td>infocasa consulting</td>\n",
              "      <td>911360461.0</td>\n",
              "      <td>https://www.fotocasa.es/es/comprar/vivienda/ma...</td>\n",
              "      <td>2.0</td>\n",
              "      <td>1.0</td>\n",
              "      <td>96.0</td>\n",
              "      <td>259470</td>\n",
              "      <td>...</td>\n",
              "      <td>0</td>\n",
              "      <td>0</td>\n",
              "      <td>0</td>\n",
              "      <td>0</td>\n",
              "      <td>0</td>\n",
              "      <td>40,45416</td>\n",
              "      <td>-3,70286</td>\n",
              "      <td>NaN</td>\n",
              "      <td>NaN</td>\n",
              "      <td>2702.812500</td>\n",
              "    </tr>\n",
              "    <tr>\n",
              "      <th>15331</th>\n",
              "      <td>15332</td>\n",
              "      <td>150394373</td>\n",
              "      <td>False</td>\n",
              "      <td>inmobiliaria pulpon</td>\n",
              "      <td>912788039.0</td>\n",
              "      <td>https://www.fotocasa.es/es/comprar/vivienda/ma...</td>\n",
              "      <td>3.0</td>\n",
              "      <td>1.0</td>\n",
              "      <td>150.0</td>\n",
              "      <td>165000</td>\n",
              "      <td>...</td>\n",
              "      <td>0</td>\n",
              "      <td>0</td>\n",
              "      <td>0</td>\n",
              "      <td>0</td>\n",
              "      <td>0</td>\n",
              "      <td>40,36652</td>\n",
              "      <td>-3,48951</td>\n",
              "      <td>NaN</td>\n",
              "      <td>NaN</td>\n",
              "      <td>1100.000000</td>\n",
              "    </tr>\n",
              "    <tr>\n",
              "      <th>15332</th>\n",
              "      <td>15333</td>\n",
              "      <td>153901397</td>\n",
              "      <td>False</td>\n",
              "      <td>tecnocasa torrelodones</td>\n",
              "      <td>912780348.0</td>\n",
              "      <td>https://www.fotocasa.es/es/comprar/vivienda/ma...</td>\n",
              "      <td>4.0</td>\n",
              "      <td>2.0</td>\n",
              "      <td>175.0</td>\n",
              "      <td>495000</td>\n",
              "      <td>...</td>\n",
              "      <td>0</td>\n",
              "      <td>0</td>\n",
              "      <td>0</td>\n",
              "      <td>0</td>\n",
              "      <td>0</td>\n",
              "      <td>40,57444</td>\n",
              "      <td>-3,92124</td>\n",
              "      <td>NaN</td>\n",
              "      <td>NaN</td>\n",
              "      <td>2828.571429</td>\n",
              "    </tr>\n",
              "    <tr>\n",
              "      <th>15333</th>\n",
              "      <td>15334</td>\n",
              "      <td>152607440</td>\n",
              "      <td>False</td>\n",
              "      <td>inmobiliaria pulpon</td>\n",
              "      <td>912788039.0</td>\n",
              "      <td>https://www.fotocasa.es/es/comprar/vivienda/ma...</td>\n",
              "      <td>3.0</td>\n",
              "      <td>2.0</td>\n",
              "      <td>101.0</td>\n",
              "      <td>195000</td>\n",
              "      <td>...</td>\n",
              "      <td>0</td>\n",
              "      <td>0</td>\n",
              "      <td>0</td>\n",
              "      <td>0</td>\n",
              "      <td>0</td>\n",
              "      <td>40,36967</td>\n",
              "      <td>-3,48105</td>\n",
              "      <td>NaN</td>\n",
              "      <td>NaN</td>\n",
              "      <td>1930.693069</td>\n",
              "    </tr>\n",
              "    <tr>\n",
              "      <th>15334</th>\n",
              "      <td>15335</td>\n",
              "      <td>153901356</td>\n",
              "      <td>False</td>\n",
              "      <td>infocasa consulting</td>\n",
              "      <td>911360461.0</td>\n",
              "      <td>https://www.fotocasa.es/es/comprar/vivienda/ma...</td>\n",
              "      <td>3.0</td>\n",
              "      <td>2.0</td>\n",
              "      <td>152.0</td>\n",
              "      <td>765000</td>\n",
              "      <td>...</td>\n",
              "      <td>0</td>\n",
              "      <td>0</td>\n",
              "      <td>0</td>\n",
              "      <td>0</td>\n",
              "      <td>0</td>\n",
              "      <td>40,45773</td>\n",
              "      <td>-3,69068</td>\n",
              "      <td>NaN</td>\n",
              "      <td>NaN</td>\n",
              "      <td>5032.894737</td>\n",
              "    </tr>\n",
              "  </tbody>\n",
              "</table>\n",
              "<p>15335 rows × 38 columns</p>\n",
              "</div>\n",
              "    <div class=\"colab-df-buttons\">\n",
              "\n",
              "  <div class=\"colab-df-container\">\n",
              "    <button class=\"colab-df-convert\" onclick=\"convertToInteractive('df-32c45ea5-926e-4182-b5fa-df5302c6a314')\"\n",
              "            title=\"Convert this dataframe to an interactive table.\"\n",
              "            style=\"display:none;\">\n",
              "\n",
              "  <svg xmlns=\"http://www.w3.org/2000/svg\" height=\"24px\" viewBox=\"0 -960 960 960\">\n",
              "    <path d=\"M120-120v-720h720v720H120Zm60-500h600v-160H180v160Zm220 220h160v-160H400v160Zm0 220h160v-160H400v160ZM180-400h160v-160H180v160Zm440 0h160v-160H620v160ZM180-180h160v-160H180v160Zm440 0h160v-160H620v160Z\"/>\n",
              "  </svg>\n",
              "    </button>\n",
              "\n",
              "  <style>\n",
              "    .colab-df-container {\n",
              "      display:flex;\n",
              "      gap: 12px;\n",
              "    }\n",
              "\n",
              "    .colab-df-convert {\n",
              "      background-color: #E8F0FE;\n",
              "      border: none;\n",
              "      border-radius: 50%;\n",
              "      cursor: pointer;\n",
              "      display: none;\n",
              "      fill: #1967D2;\n",
              "      height: 32px;\n",
              "      padding: 0 0 0 0;\n",
              "      width: 32px;\n",
              "    }\n",
              "\n",
              "    .colab-df-convert:hover {\n",
              "      background-color: #E2EBFA;\n",
              "      box-shadow: 0px 1px 2px rgba(60, 64, 67, 0.3), 0px 1px 3px 1px rgba(60, 64, 67, 0.15);\n",
              "      fill: #174EA6;\n",
              "    }\n",
              "\n",
              "    .colab-df-buttons div {\n",
              "      margin-bottom: 4px;\n",
              "    }\n",
              "\n",
              "    [theme=dark] .colab-df-convert {\n",
              "      background-color: #3B4455;\n",
              "      fill: #D2E3FC;\n",
              "    }\n",
              "\n",
              "    [theme=dark] .colab-df-convert:hover {\n",
              "      background-color: #434B5C;\n",
              "      box-shadow: 0px 1px 3px 1px rgba(0, 0, 0, 0.15);\n",
              "      filter: drop-shadow(0px 1px 2px rgba(0, 0, 0, 0.3));\n",
              "      fill: #FFFFFF;\n",
              "    }\n",
              "  </style>\n",
              "\n",
              "    <script>\n",
              "      const buttonEl =\n",
              "        document.querySelector('#df-32c45ea5-926e-4182-b5fa-df5302c6a314 button.colab-df-convert');\n",
              "      buttonEl.style.display =\n",
              "        google.colab.kernel.accessAllowed ? 'block' : 'none';\n",
              "\n",
              "      async function convertToInteractive(key) {\n",
              "        const element = document.querySelector('#df-32c45ea5-926e-4182-b5fa-df5302c6a314');\n",
              "        const dataTable =\n",
              "          await google.colab.kernel.invokeFunction('convertToInteractive',\n",
              "                                                    [key], {});\n",
              "        if (!dataTable) return;\n",
              "\n",
              "        const docLinkHtml = 'Like what you see? Visit the ' +\n",
              "          '<a target=\"_blank\" href=https://colab.research.google.com/notebooks/data_table.ipynb>data table notebook</a>'\n",
              "          + ' to learn more about interactive tables.';\n",
              "        element.innerHTML = '';\n",
              "        dataTable['output_type'] = 'display_data';\n",
              "        await google.colab.output.renderOutput(dataTable, element);\n",
              "        const docLink = document.createElement('div');\n",
              "        docLink.innerHTML = docLinkHtml;\n",
              "        element.appendChild(docLink);\n",
              "      }\n",
              "    </script>\n",
              "  </div>\n",
              "\n",
              "\n",
              "    <div id=\"df-c8f68f53-ed7f-4a9b-a56c-4814189b70d7\">\n",
              "      <button class=\"colab-df-quickchart\" onclick=\"quickchart('df-c8f68f53-ed7f-4a9b-a56c-4814189b70d7')\"\n",
              "                title=\"Suggest charts\"\n",
              "                style=\"display:none;\">\n",
              "\n",
              "<svg xmlns=\"http://www.w3.org/2000/svg\" height=\"24px\"viewBox=\"0 0 24 24\"\n",
              "     width=\"24px\">\n",
              "    <g>\n",
              "        <path d=\"M19 3H5c-1.1 0-2 .9-2 2v14c0 1.1.9 2 2 2h14c1.1 0 2-.9 2-2V5c0-1.1-.9-2-2-2zM9 17H7v-7h2v7zm4 0h-2V7h2v10zm4 0h-2v-4h2v4z\"/>\n",
              "    </g>\n",
              "</svg>\n",
              "      </button>\n",
              "\n",
              "<style>\n",
              "  .colab-df-quickchart {\n",
              "      --bg-color: #E8F0FE;\n",
              "      --fill-color: #1967D2;\n",
              "      --hover-bg-color: #E2EBFA;\n",
              "      --hover-fill-color: #174EA6;\n",
              "      --disabled-fill-color: #AAA;\n",
              "      --disabled-bg-color: #DDD;\n",
              "  }\n",
              "\n",
              "  [theme=dark] .colab-df-quickchart {\n",
              "      --bg-color: #3B4455;\n",
              "      --fill-color: #D2E3FC;\n",
              "      --hover-bg-color: #434B5C;\n",
              "      --hover-fill-color: #FFFFFF;\n",
              "      --disabled-bg-color: #3B4455;\n",
              "      --disabled-fill-color: #666;\n",
              "  }\n",
              "\n",
              "  .colab-df-quickchart {\n",
              "    background-color: var(--bg-color);\n",
              "    border: none;\n",
              "    border-radius: 50%;\n",
              "    cursor: pointer;\n",
              "    display: none;\n",
              "    fill: var(--fill-color);\n",
              "    height: 32px;\n",
              "    padding: 0;\n",
              "    width: 32px;\n",
              "  }\n",
              "\n",
              "  .colab-df-quickchart:hover {\n",
              "    background-color: var(--hover-bg-color);\n",
              "    box-shadow: 0 1px 2px rgba(60, 64, 67, 0.3), 0 1px 3px 1px rgba(60, 64, 67, 0.15);\n",
              "    fill: var(--button-hover-fill-color);\n",
              "  }\n",
              "\n",
              "  .colab-df-quickchart-complete:disabled,\n",
              "  .colab-df-quickchart-complete:disabled:hover {\n",
              "    background-color: var(--disabled-bg-color);\n",
              "    fill: var(--disabled-fill-color);\n",
              "    box-shadow: none;\n",
              "  }\n",
              "\n",
              "  .colab-df-spinner {\n",
              "    border: 2px solid var(--fill-color);\n",
              "    border-color: transparent;\n",
              "    border-bottom-color: var(--fill-color);\n",
              "    animation:\n",
              "      spin 1s steps(1) infinite;\n",
              "  }\n",
              "\n",
              "  @keyframes spin {\n",
              "    0% {\n",
              "      border-color: transparent;\n",
              "      border-bottom-color: var(--fill-color);\n",
              "      border-left-color: var(--fill-color);\n",
              "    }\n",
              "    20% {\n",
              "      border-color: transparent;\n",
              "      border-left-color: var(--fill-color);\n",
              "      border-top-color: var(--fill-color);\n",
              "    }\n",
              "    30% {\n",
              "      border-color: transparent;\n",
              "      border-left-color: var(--fill-color);\n",
              "      border-top-color: var(--fill-color);\n",
              "      border-right-color: var(--fill-color);\n",
              "    }\n",
              "    40% {\n",
              "      border-color: transparent;\n",
              "      border-right-color: var(--fill-color);\n",
              "      border-top-color: var(--fill-color);\n",
              "    }\n",
              "    60% {\n",
              "      border-color: transparent;\n",
              "      border-right-color: var(--fill-color);\n",
              "    }\n",
              "    80% {\n",
              "      border-color: transparent;\n",
              "      border-right-color: var(--fill-color);\n",
              "      border-bottom-color: var(--fill-color);\n",
              "    }\n",
              "    90% {\n",
              "      border-color: transparent;\n",
              "      border-bottom-color: var(--fill-color);\n",
              "    }\n",
              "  }\n",
              "</style>\n",
              "\n",
              "      <script>\n",
              "        async function quickchart(key) {\n",
              "          const quickchartButtonEl =\n",
              "            document.querySelector('#' + key + ' button');\n",
              "          quickchartButtonEl.disabled = true;  // To prevent multiple clicks.\n",
              "          quickchartButtonEl.classList.add('colab-df-spinner');\n",
              "          try {\n",
              "            const charts = await google.colab.kernel.invokeFunction(\n",
              "                'suggestCharts', [key], {});\n",
              "          } catch (error) {\n",
              "            console.error('Error during call to suggestCharts:', error);\n",
              "          }\n",
              "          quickchartButtonEl.classList.remove('colab-df-spinner');\n",
              "          quickchartButtonEl.classList.add('colab-df-quickchart-complete');\n",
              "        }\n",
              "        (() => {\n",
              "          let quickchartButtonEl =\n",
              "            document.querySelector('#df-c8f68f53-ed7f-4a9b-a56c-4814189b70d7 button');\n",
              "          quickchartButtonEl.style.display =\n",
              "            google.colab.kernel.accessAllowed ? 'block' : 'none';\n",
              "        })();\n",
              "      </script>\n",
              "    </div>\n",
              "\n",
              "  <div id=\"id_c9a8e355-5699-4ead-949b-200c08ea6c52\">\n",
              "    <style>\n",
              "      .colab-df-generate {\n",
              "        background-color: #E8F0FE;\n",
              "        border: none;\n",
              "        border-radius: 50%;\n",
              "        cursor: pointer;\n",
              "        display: none;\n",
              "        fill: #1967D2;\n",
              "        height: 32px;\n",
              "        padding: 0 0 0 0;\n",
              "        width: 32px;\n",
              "      }\n",
              "\n",
              "      .colab-df-generate:hover {\n",
              "        background-color: #E2EBFA;\n",
              "        box-shadow: 0px 1px 2px rgba(60, 64, 67, 0.3), 0px 1px 3px 1px rgba(60, 64, 67, 0.15);\n",
              "        fill: #174EA6;\n",
              "      }\n",
              "\n",
              "      [theme=dark] .colab-df-generate {\n",
              "        background-color: #3B4455;\n",
              "        fill: #D2E3FC;\n",
              "      }\n",
              "\n",
              "      [theme=dark] .colab-df-generate:hover {\n",
              "        background-color: #434B5C;\n",
              "        box-shadow: 0px 1px 3px 1px rgba(0, 0, 0, 0.15);\n",
              "        filter: drop-shadow(0px 1px 2px rgba(0, 0, 0, 0.3));\n",
              "        fill: #FFFFFF;\n",
              "      }\n",
              "    </style>\n",
              "    <button class=\"colab-df-generate\" onclick=\"generateWithVariable('ds')\"\n",
              "            title=\"Generate code using this dataframe.\"\n",
              "            style=\"display:none;\">\n",
              "\n",
              "  <svg xmlns=\"http://www.w3.org/2000/svg\" height=\"24px\"viewBox=\"0 0 24 24\"\n",
              "       width=\"24px\">\n",
              "    <path d=\"M7,19H8.4L18.45,9,17,7.55,7,17.6ZM5,21V16.75L18.45,3.32a2,2,0,0,1,2.83,0l1.4,1.43a1.91,1.91,0,0,1,.58,1.4,1.91,1.91,0,0,1-.58,1.4L9.25,21ZM18.45,9,17,7.55Zm-12,3A5.31,5.31,0,0,0,4.9,8.1,5.31,5.31,0,0,0,1,6.5,5.31,5.31,0,0,0,4.9,4.9,5.31,5.31,0,0,0,6.5,1,5.31,5.31,0,0,0,8.1,4.9,5.31,5.31,0,0,0,12,6.5,5.46,5.46,0,0,0,6.5,12Z\"/>\n",
              "  </svg>\n",
              "    </button>\n",
              "    <script>\n",
              "      (() => {\n",
              "      const buttonEl =\n",
              "        document.querySelector('#id_c9a8e355-5699-4ead-949b-200c08ea6c52 button.colab-df-generate');\n",
              "      buttonEl.style.display =\n",
              "        google.colab.kernel.accessAllowed ? 'block' : 'none';\n",
              "\n",
              "      buttonEl.onclick = () => {\n",
              "        google.colab.notebook.generateWithVariable('ds');\n",
              "      }\n",
              "      })();\n",
              "    </script>\n",
              "  </div>\n",
              "\n",
              "    </div>\n",
              "  </div>\n"
            ],
            "text/plain": [
              "       Unnamed: 0  id_realEstates  isNew                    realEstate_name  \\\n",
              "0               1       153771986  False            ferrari 57 inmobiliaria   \n",
              "1               2       153867863  False  tecnocasa fuenlabrada ferrocarril   \n",
              "2               3       153430440  False                 look find boadilla   \n",
              "3               4       152776331  False  tecnocasa fuenlabrada ferrocarril   \n",
              "4               5       153180188  False            ferrari 57 inmobiliaria   \n",
              "...           ...             ...    ...                                ...   \n",
              "15330       15331       153901377  False                infocasa consulting   \n",
              "15331       15332       150394373  False                inmobiliaria pulpon   \n",
              "15332       15333       153901397  False             tecnocasa torrelodones   \n",
              "15333       15334       152607440  False                inmobiliaria pulpon   \n",
              "15334       15335       153901356  False                infocasa consulting   \n",
              "\n",
              "       phone_realEstate                                       url_inmueble  \\\n",
              "0           912177526.0  https://www.fotocasa.es/es/comprar/vivienda/ma...   \n",
              "1           916358736.0  https://www.fotocasa.es/es/comprar/vivienda/ma...   \n",
              "2           916350408.0  https://www.fotocasa.es/es/comprar/vivienda/ma...   \n",
              "3           916358736.0  https://www.fotocasa.es/es/comprar/vivienda/ma...   \n",
              "4           912177526.0  https://www.fotocasa.es/es/comprar/vivienda/ma...   \n",
              "...                 ...                                                ...   \n",
              "15330       911360461.0  https://www.fotocasa.es/es/comprar/vivienda/ma...   \n",
              "15331       912788039.0  https://www.fotocasa.es/es/comprar/vivienda/ma...   \n",
              "15332       912780348.0  https://www.fotocasa.es/es/comprar/vivienda/ma...   \n",
              "15333       912788039.0  https://www.fotocasa.es/es/comprar/vivienda/ma...   \n",
              "15334       911360461.0  https://www.fotocasa.es/es/comprar/vivienda/ma...   \n",
              "\n",
              "       rooms  bathrooms  surface   price  ... level5Id level6Id level7Id  \\\n",
              "0        3.0        2.0    103.0  195000  ...        0        0        0   \n",
              "1        3.0        1.0      NaN   89000  ...        0        0        0   \n",
              "2        2.0        2.0     99.0  390000  ...        0        0        0   \n",
              "3        3.0        1.0     86.0   89000  ...        0        0        0   \n",
              "4        2.0        2.0    106.0  172000  ...        0        0        0   \n",
              "...      ...        ...      ...     ...  ...      ...      ...      ...   \n",
              "15330    2.0        1.0     96.0  259470  ...        0        0        0   \n",
              "15331    3.0        1.0    150.0  165000  ...        0        0        0   \n",
              "15332    4.0        2.0    175.0  495000  ...        0        0        0   \n",
              "15333    3.0        2.0    101.0  195000  ...        0        0        0   \n",
              "15334    3.0        2.0    152.0  765000  ...        0        0        0   \n",
              "\n",
              "      level8Id accuracy          latitude          longitude zipCode  \\\n",
              "0            0        0  40,2948276786438  -3,44402412135624     NaN   \n",
              "1            0        1          40,28674           -3,79351     NaN   \n",
              "2            0        0  40,4115646786438  -3,90662252135624     NaN   \n",
              "3            0        0  40,2853785786438  -3,79508142135624     NaN   \n",
              "4            0        0  40,2998774864376  -3,45226301356237     NaN   \n",
              "...        ...      ...               ...                ...     ...   \n",
              "15330        0        0          40,45416           -3,70286     NaN   \n",
              "15331        0        0          40,36652           -3,48951     NaN   \n",
              "15332        0        0          40,57444           -3,92124     NaN   \n",
              "15333        0        0          40,36967           -3,48105     NaN   \n",
              "15334        0        0          40,45773           -3,69068     NaN   \n",
              "\n",
              "      customZone          pps  \n",
              "0            NaN  1893.203883  \n",
              "1            NaN          NaN  \n",
              "2            NaN  3939.393939  \n",
              "3            NaN  1034.883721  \n",
              "4            NaN  1622.641509  \n",
              "...          ...          ...  \n",
              "15330        NaN  2702.812500  \n",
              "15331        NaN  1100.000000  \n",
              "15332        NaN  2828.571429  \n",
              "15333        NaN  1930.693069  \n",
              "15334        NaN  5032.894737  \n",
              "\n",
              "[15335 rows x 38 columns]"
            ]
          },
          "execution_count": 74,
          "metadata": {},
          "output_type": "execute_result"
        }
      ],
      "source": [
        "#Precios Promedio Valdemorillo\n",
        "precio1 = ds[ds[\"level5\"] == \"Valdemorillo\"]\n",
        "precio_medio1 = precio1[\"price\"].mean()\n",
        "\n",
        "#Precio Promedio Galapagar\n",
        "precio2 = ds[ds[\"level5\"] == \"Galapagar\"]\n",
        "precio_medio2 = precio2[\"price\"].mean()\n",
        "\n",
        "#Superficie Promedio Valdemorillo\n",
        "superficie1 = ds[ds[\"level5\"] == \"Valdemorillo\"]\n",
        "superficie_medio1 = superficie1[\"surface\"].mean()\n",
        "\n",
        "#Superficie Promedio Galapagar\n",
        "superficie2 = ds[ds[\"level5\"] == \"Galapagar\"]\n",
        "superficie_medio2 = superficie2[\"surface\"].mean()\n",
        "\n",
        "#Calculo de precio promedio por metro cuadrado\n",
        "pps_valdemorillo = precio_medio1 / superficie_medio1\n",
        "pps_galapagar = precio_medio2 / superficie_medio2\n",
        "\n",
        "print(f\"El precio promecio de valdemoprillo por metro cuadrado es {pps_valdemorillo}\")\n",
        "print(f\"El precio promecio de Galapagar por metro cuadrado es {pps_galapagar}\")\n",
        "\n",
        "#Definiendo Columnas para calcular el precio por metro caudrado\n",
        "precio_general = ds[\"price\"]\n",
        "superficie_general = ds[\"surface\"]\n",
        "\n",
        "#Calculo de precio por metro cuadrado\n",
        "precio_por_metro_cuadrado = precio_general / superficie_general\n",
        "\n",
        "#Agregando columna de precio por metro a la base de datos\n",
        "ds[\"pps\"] = precio_por_metro_cuadrado\n",
        "ds\n"
      ]
    },
    {
      "cell_type": "markdown",
      "id": "pleasant-invite",
      "metadata": {
        "id": "pleasant-invite"
      },
      "source": [
        "#### Ejercicio 11. Analiza la relación entre la superficie y el precio de las casas. (★★☆)\n",
        "\n",
        "Pista: Puedes hacer un `scatter plot` y luego escribir una conclusión al respecto."
      ]
    },
    {
      "cell_type": "code",
      "execution_count": 75,
      "id": "common-drilling",
      "metadata": {
        "colab": {
          "base_uri": "https://localhost:8080/",
          "height": 580
        },
        "id": "common-drilling",
        "outputId": "3c2cce83-76d0-420f-9338-a462ebd1d2f7"
      },
      "outputs": [
        {
          "data": {
            "text/html": [
              "<div style=\"max-width:800px; border: 1px solid var(--colab-border-color);\"><style>\n",
              "      pre.function-repr-contents {\n",
              "        overflow-x: auto;\n",
              "        padding: 8px 12px;\n",
              "        max-height: 500px;\n",
              "      }\n",
              "\n",
              "      pre.function-repr-contents.function-repr-contents-collapsed {\n",
              "        cursor: pointer;\n",
              "        max-height: 100px;\n",
              "      }\n",
              "    </style>\n",
              "    <pre style=\"white-space: initial; background:\n",
              "         var(--colab-secondary-surface-color); padding: 8px 12px;\n",
              "         border-bottom: 1px solid var(--colab-border-color);\"><b>matplotlib.pyplot.show</b><br/>def show(*args, **kwargs) -&gt; None</pre><pre class=\"function-repr-contents function-repr-contents-collapsed\" style=\"\"><a class=\"filepath\" style=\"display:none\" href=\"#\">/usr/local/lib/python3.11/dist-packages/matplotlib/pyplot.py</a>Display all open figures.\n",
              "\n",
              "Parameters\n",
              "----------\n",
              "block : bool, optional\n",
              "    Whether to wait for all figures to be closed before returning.\n",
              "\n",
              "    If `True` block and run the GUI main loop until all figure windows\n",
              "    are closed.\n",
              "\n",
              "    If `False` ensure that all figure windows are displayed and return\n",
              "    immediately.  In this case, you are responsible for ensuring\n",
              "    that the event loop is running to have responsive figures.\n",
              "\n",
              "    Defaults to True in non-interactive mode and to False in interactive\n",
              "    mode (see `.pyplot.isinteractive`).\n",
              "\n",
              "See Also\n",
              "--------\n",
              "ion : Enable interactive mode, which shows / updates the figure after\n",
              "      every plotting command, so that calling ``show()`` is not necessary.\n",
              "ioff : Disable interactive mode.\n",
              "savefig : Save the figure to an image file instead of showing it on screen.\n",
              "\n",
              "Notes\n",
              "-----\n",
              "**Saving figures to file and showing a window at the same time**\n",
              "\n",
              "If you want an image file as well as a user interface window, use\n",
              "`.pyplot.savefig` before `.pyplot.show`. At the end of (a blocking)\n",
              "``show()`` the figure is closed and thus unregistered from pyplot. Calling\n",
              "`.pyplot.savefig` afterwards would save a new and thus empty figure. This\n",
              "limitation of command order does not apply if the show is non-blocking or\n",
              "if you keep a reference to the figure and use `.Figure.savefig`.\n",
              "\n",
              "**Auto-show in jupyter notebooks**\n",
              "\n",
              "The jupyter backends (activated via ``%matplotlib inline``,\n",
              "``%matplotlib notebook``, or ``%matplotlib widget``), call ``show()`` at\n",
              "the end of every cell by default. Thus, you usually don&#x27;t have to call it\n",
              "explicitly there.</pre>\n",
              "      <script>\n",
              "      if (google.colab.kernel.accessAllowed && google.colab.files && google.colab.files.view) {\n",
              "        for (const element of document.querySelectorAll('.filepath')) {\n",
              "          element.style.display = 'block'\n",
              "          element.onclick = (event) => {\n",
              "            event.preventDefault();\n",
              "            event.stopPropagation();\n",
              "            google.colab.files.view(element.textContent, 569);\n",
              "          };\n",
              "        }\n",
              "      }\n",
              "      for (const element of document.querySelectorAll('.function-repr-contents')) {\n",
              "        element.onclick = (event) => {\n",
              "          event.preventDefault();\n",
              "          event.stopPropagation();\n",
              "          element.classList.toggle('function-repr-contents-collapsed');\n",
              "        };\n",
              "      }\n",
              "      </script>\n",
              "      </div>"
            ],
            "text/plain": [
              "<function matplotlib.pyplot.show(close=None, block=None)>"
            ]
          },
          "execution_count": 75,
          "metadata": {},
          "output_type": "execute_result"
        },
        {
          "data": {
            "image/png": "[encoded data removed]",
            "text/plain": [
              "<Figure size 1000x400 with 1 Axes>"
            ]
          },
          "metadata": {},
          "output_type": "display_data"
        }
      ],
      "source": [
        "import matplotlib.pyplot as plt\n",
        "\n",
        "#Recuadro y titulo de grafico\n",
        "plt.figure(figsize = (10,4))\n",
        "plt.title(\"Relacion entre Superficie y Precio\")\n",
        "\n",
        "#Eje x y eje y\n",
        "plt.xlabel(\"Superficie\")\n",
        "plt.ylabel(\"Precio\")\n",
        "\n",
        "#Grafico de la relacion de precio y superficie\n",
        "plt.scatter(ds['price'],ds['surface'])\n",
        "\n",
        "plt.show\n",
        "\n",
        "\n",
        "\n"
      ]
    },
    {
      "cell_type": "markdown",
      "id": "ahead-liquid",
      "metadata": {
        "id": "ahead-liquid"
      },
      "source": [
        "**TODO: Markdown**. Para escribir aquí, haz doble clic en esta celda, elimina este contenido y coloca lo que quieras escribir. Luego ejecuta la celda."
      ]
    },
    {
      "cell_type": "markdown",
      "id": "coordinate-sunrise",
      "metadata": {
        "id": "coordinate-sunrise"
      },
      "source": [
        "#### Ejercicio 12. ¿Cuántas agencia de bienes raíces contiene el dataset? (★★☆)\n",
        "\n",
        "Imprime el valor obtenido."
      ]
    },
    {
      "cell_type": "code",
      "execution_count": 76,
      "id": "valid-honolulu",
      "metadata": {
        "colab": {
          "base_uri": "https://localhost:8080/"
        },
        "id": "valid-honolulu",
        "outputId": "d824356b-72bf-4bba-a0f8-31f2a4b60d34"
      },
      "outputs": [
        {
          "name": "stdout",
          "output_type": "stream",
          "text": [
            " El dataset contiene: 1821 agencias de bienes raices\n"
          ]
        }
      ],
      "source": [
        "bienes_raices = ds['realEstate_name']\n",
        "numero_bienes_raices= bienes_raices.value_counts()\n",
        "\n",
        "cantidad_bienes_raices = len(numero_bienes_raices)\n",
        "print(f\" El dataset contiene: {cantidad_bienes_raices} agencias de bienes raices\")\n"
      ]
    },
    {
      "cell_type": "markdown",
      "id": "binding-ebony",
      "metadata": {
        "id": "binding-ebony"
      },
      "source": [
        "#### Ejercicio 13. ¿Cuál es la población (columna level5) que contiene la mayor cantidad de casas?(★★☆)\n",
        "\n",
        "Imprima la población y el número de casas."
      ]
    },
    {
      "cell_type": "code",
      "execution_count": 77,
      "id": "static-perry",
      "metadata": {
        "colab": {
          "base_uri": "https://localhost:8080/"
        },
        "id": "static-perry",
        "outputId": "e3cc8ca0-8af3-48ef-9a79-8d1b3c6f5380"
      },
      "outputs": [
        {
          "name": "stdout",
          "output_type": "stream",
          "text": [
            " La poblacion con mayor cantidad de casas es :  Madrid Capital\n",
            " el numero de casas es de : 6643\n"
          ]
        }
      ],
      "source": [
        "poblacion = ds[\"level5\"]\n",
        "numero_poblacion = poblacion.value_counts()\n",
        "maximo_valor = numero_poblacion.max()\n",
        "indice_maximo_valor = numero_poblacion.index[0]\n",
        "\n",
        "print(f\" La poblacion con mayor cantidad de casas es : {indice_maximo_valor}\")\n",
        "print(f\" el numero de casas es de : {maximo_valor}\")"
      ]
    },
    {
      "cell_type": "markdown",
      "id": "entire-classification",
      "metadata": {
        "id": "entire-classification"
      },
      "source": [
        "#### Ejercicio 14. Ahora vamos a trabajar con el \"cinturón sur\" de Madrid. Haz un subconjunto del DataFrame original que contenga las siguientes poblaciones (columna level5): \"Fuenlabrada\", \"Leganés\", \"Getafe\", \"Alcorcón\" (★★☆)\n",
        "\n",
        "Pista: Filtra el DataFrame original usando la columna `level5` y la función `isin`."
      ]
    },
    {
      "cell_type": "code",
      "execution_count": 78,
      "id": "binary-input",
      "metadata": {
        "colab": {
          "base_uri": "https://localhost:8080/"
        },
        "id": "binary-input",
        "outputId": "ce6e3811-542c-4fc0-c729-6f846e3e6d31"
      },
      "outputs": [
        {
          "name": "stdout",
          "output_type": "stream",
          "text": [
            "1        Fuenlabrada\n",
            "3        Fuenlabrada\n",
            "85          Alcorcón\n",
            "94           Leganés\n",
            "109         Alcorcón\n",
            "            ...     \n",
            "15275    Fuenlabrada\n",
            "15291        Leganés\n",
            "15305    Fuenlabrada\n",
            "15322    Fuenlabrada\n",
            "15325    Fuenlabrada\n",
            "Name: level5, Length: 907, dtype: object\n"
          ]
        }
      ],
      "source": [
        "columna = ds[\"level5\"]\n",
        "poblaciones = [\"Fuenlabrada\", \"Leganés\", \"Getafe\", \"Alcorcón\"]\n",
        "\n",
        "#Modificando el dataFrame original por las poblaciones anteriores\n",
        "subconjunto = ds[ds[\"level5\"].isin(poblaciones)]\n",
        "\n",
        "print(subconjunto['level5'])"
      ]
    },
    {
      "cell_type": "markdown",
      "id": "severe-fisher",
      "metadata": {
        "id": "severe-fisher"
      },
      "source": [
        "#### Ejercicio 15. Traza un gráfico de barras de la mediana de los precios y explica lo que observas (debes usar el subconjunto obtenido del Ejercicio 14) (★★★)\n",
        "\n",
        "Imprima un gráfico de barras de la mediana de precios y escriba en la celda Markdown un breve análisis sobre el gráfico."
      ]
    },
    {
      "cell_type": "code",
      "execution_count": 79,
      "id": "lyric-bunch",
      "metadata": {
        "colab": {
          "base_uri": "https://localhost:8080/",
          "height": 391
        },
        "id": "lyric-bunch",
        "outputId": "453b78c9-77ba-4c6d-8e3b-f8cd4bfbcb6c"
      },
      "outputs": [
        {
          "data": {
            "image/png": "[encoded data removed]",
            "text/plain": [
              "<Figure size 1000x400 with 1 Axes>"
            ]
          },
          "metadata": {},
          "output_type": "display_data"
        }
      ],
      "source": [
        "import matplotlib.pyplot as plt\n",
        "#Modificando el dataFrame original por las poblaciones anteriores\n",
        "poblaciones = [\"Fuenlabrada\", \"Leganés\", \"Getafe\", \"Alcorcón\"]\n",
        "subconjunto = ds[ds[\"level5\"].isin(poblaciones)]\n",
        "\n",
        "#Calculando las medianas de la poblaciones\n",
        "grupo_poblaciones = subconjunto.groupby('level5')['price'].median()\n",
        "\n",
        "plt.figure(figsize = (10,4))\n",
        "\n",
        "plt.bar(poblaciones,grupo_poblaciones)\n",
        "\n",
        "plt.title(\"Grafico de Barras\")\n",
        "plt.show()\n",
        "\n",
        "\n"
      ]
    },
    {
      "cell_type": "markdown",
      "id": "sublime-newspaper",
      "metadata": {
        "id": "sublime-newspaper"
      },
      "source": [
        "**TODO: Markdown**.Se puede observar que getafe tiene la mediana de precios mas elevada que leganes que es la que tiene menor mediana entre las 4 poblaciones"
      ]
    },
    {
      "cell_type": "markdown",
      "id": "speaking-diamond",
      "metadata": {
        "id": "speaking-diamond"
      },
      "source": [
        "#### Ejercicio 16. Calcula la media y la varianza de muestra para las siguientes variables: precio, habitaciones, superficie y baños (debes usar el subconjunto obtenido del Ejercicio 14) (★★★)\n",
        "\n",
        "Imprime ambos valores por cada variable."
      ]
    },
    {
      "cell_type": "code",
      "execution_count": 80,
      "id": "random-feeling",
      "metadata": {
        "colab": {
          "base_uri": "https://localhost:8080/"
        },
        "id": "random-feeling",
        "outputId": "48caaa72-1de3-4a5b-9570-ceca13296951"
      },
      "outputs": [
        {
          "name": "stdout",
          "output_type": "stream",
          "text": [
            "                     price     rooms     surface  bathrooms\n",
            "level5                                                     \n",
            "Alcorcón     230071.052632  2.914894  105.913295   1.623656\n",
            "Fuenlabrada  177198.021459  3.025974  103.624365   1.445415\n",
            "Getafe       265040.500000  3.151724  126.896266   1.865052\n",
            "Leganés      208682.010309  2.906736  105.852273   1.518135\n",
            "                    price     rooms      surface  bathrooms\n",
            "level5                                                     \n",
            "Alcorcón     1.594783e+10  0.933895  4244.323834   0.592735\n",
            "Fuenlabrada  4.701021e+09  0.355844  2264.643893   0.353367\n",
            "Getafe       2.098267e+10  0.772748  5828.110028   0.658809\n",
            "Leganés      1.191394e+10  0.824590  3987.475195   0.553055\n"
          ]
        }
      ],
      "source": [
        "#Modificando el dataFrame original por las poblaciones anteriores\n",
        "poblaciones = [\"Fuenlabrada\", \"Leganés\", \"Getafe\", \"Alcorcón\"]\n",
        "subconjunto = ds[ds[\"level5\"].isin(poblaciones)]\n",
        "\n",
        "#Calculando las medianas de la poblaciones\n",
        "grupo_poblaciones_mediana = subconjunto.groupby('level5')[['price','rooms','surface','bathrooms']].mean()\n",
        "\n",
        "#Calculando las varianzas de la poblaciones\n",
        "grupo_poblaciones_varianza = subconjunto.groupby('level5')[['price','rooms','surface','bathrooms']].var()\n",
        "\n",
        "print(grupo_poblaciones_mediana)\n",
        "print(grupo_poblaciones_varianza)\n",
        "\n",
        "\n"
      ]
    },
    {
      "cell_type": "markdown",
      "id": "revolutionary-matrix",
      "metadata": {
        "id": "revolutionary-matrix"
      },
      "source": [
        "#### Ejercicio 17. ¿Cuál es la casa más cara de cada población? Debes usar el subset obtenido en la pregunta 14 (★★☆)\n",
        "\n",
        "Imprime tanto la dirección como el precio de la casa seleccionada de cada población. Puedes imprimir un DataFrame o una sola línea para cada población."
      ]
    },
    {
      "cell_type": "code",
      "execution_count": 81,
      "id": "fifteen-browse",
      "metadata": {
        "colab": {
          "base_uri": "https://localhost:8080/"
        },
        "id": "fifteen-browse",
        "outputId": "aaa74849-6b2e-409c-e348-c9f8940c53bd"
      },
      "outputs": [
        {
          "name": "stdout",
          "output_type": "stream",
          "text": [
            "               price\n",
            "level5              \n",
            "Alcorcón      950000\n",
            "Fuenlabrada   490000\n",
            "Getafe       1050000\n",
            "Leganés       650000\n"
          ]
        }
      ],
      "source": [
        "columna = ds[\"level5\"]\n",
        "poblaciones = [\"Fuenlabrada\", \"Leganés\", \"Getafe\", \"Alcorcón\"]\n",
        "\n",
        "#Modificando el dataFrame original por las poblaciones anteriores\n",
        "subconjunto = ds[ds[\"level5\"].isin(poblaciones)]\n",
        "\n",
        "#Agrupando y calculando precio maximo de las poblaciones\n",
        "precio = subconjunto.groupby(\"level5\")[['price']].max()\n",
        "\n",
        "print(precio)"
      ]
    },
    {
      "cell_type": "markdown",
      "id": "activated-knight",
      "metadata": {
        "id": "activated-knight"
      },
      "source": [
        "#### Ejercicio 18. Normaliza la variable de precios para cada población y traza los 4 histogramas en el mismo gráfico (debes usar el subconjunto obtenido en la pregunta 14) (★★★)\n",
        "\n",
        "Para el método de normalización, puedes usar el que consideres adecuado, no hay una única respuesta correcta para esta pregunta. Imprime el gráfico y escribe en la celda de Markdown un breve análisis sobre el gráfico.\n",
        "\n",
        "Pista: Puedes ayudarte revisando la demostración multihist de Matplotlib."
      ]
    },
    {
      "cell_type": "code",
      "execution_count": 82,
      "id": "civic-meditation",
      "metadata": {
        "colab": {
          "base_uri": "https://localhost:8080/",
          "height": 410
        },
        "id": "civic-meditation",
        "outputId": "1f39a33b-d479-4c93-cb0d-add8ce3592af"
      },
      "outputs": [
        {
          "data": {
            "image/png": "[encoded data removed]",
            "text/plain": [
              "<Figure size 1000x400 with 1 Axes>"
            ]
          },
          "metadata": {},
          "output_type": "display_data"
        }
      ],
      "source": [
        "import matplotlib.pyplot as plt\n",
        "import pandas as pd\n",
        "\n",
        "columna = ds[\"level5\"]\n",
        "poblaciones = [\"Fuenlabrada\", \"Leganés\", \"Getafe\", \"Alcorcón\"]\n",
        "\n",
        "#Modificando el dataFrame original por las poblaciones anteriores\n",
        "subconjunto = ds[ds[\"level5\"].isin(poblaciones)]\n",
        "\n",
        "#Calculando estandarizacion\n",
        "def estandarizacion(calculos):\n",
        "    calculos_media = calculos.mean()\n",
        "    calculos_desviacion = calculos.std()\n",
        "    return (calculos - calculos_media)/calculos_desviacion\n",
        "\n",
        "#Normalizacion\n",
        "normalizacion = subconjunto.groupby('level5')[['price']].transform(estandarizacion)\n",
        "\n",
        "#Histograma\n",
        "plt.figure(figsize=(10, 4))\n",
        "colors = [\"blue\", \"green\", \"red\", \"yellow\"]\n",
        "\n",
        "#Recorriendo los valores para generar el histograma\n",
        "for poblacion, color in zip(poblaciones, colors):\n",
        "    plt.hist(normalizacion[subconjunto['level5'] == poblacion], bins=30, alpha=0.6, color=color, label=poblacion)\n",
        "\n",
        "#Datos para el histograma\n",
        "plt.title(\"Histogramas Normalizados de Precios\")\n",
        "plt.xlabel(\"Precio Normalizado\")\n",
        "plt.ylabel(\"Frecuencia\")\n",
        "plt.legend()\n",
        "plt.grid(axis='y', linestyle='--', alpha=0.7)\n",
        "\n",
        "plt.show()\n",
        "\n",
        "\n",
        "\n"
      ]
    },
    {
      "cell_type": "markdown",
      "id": "precise-heavy",
      "metadata": {
        "id": "precise-heavy"
      },
      "source": [
        "**TODO: Markdown**. Podemos ver que los precios en leganes y getafe de las casas son un poco mas costosos que en fuenlabrada y alcorcon"
      ]
    },
    {
      "cell_type": "markdown",
      "id": "patent-jonathan",
      "metadata": {
        "id": "patent-jonathan"
      },
      "source": [
        "#### Ejercicio 19. ¿Qué puedes decir sobre el precio por metro cuadrado (precio/m2) entre los municipios de 'Getafe' y 'Alcorcón'? Debes usar el subconjunto obtenido en la pregunta 14 (★★☆)\n",
        "\n",
        "Pista: Crea una nueva columna llamada `pps` (price per square en inglés) y luego analiza los valores"
      ]
    },
    {
      "cell_type": "code",
      "execution_count": 83,
      "id": "initial-liverpool",
      "metadata": {
        "colab": {
          "base_uri": "https://localhost:8080/"
        },
        "id": "initial-liverpool",
        "outputId": "d3b91bfb-4d4c-4cb0-de36-aa4ea0775d12"
      },
      "outputs": [
        {
          "name": "stdout",
          "output_type": "stream",
          "text": [
            "level5\n",
            "Alcorcón       2172.258479\n",
            "Fuenlabrada    1710.003440\n",
            "Getafe         2088.639085\n",
            "Leganés        1971.445723\n",
            "dtype: float64\n",
            "Los precios por metro cuadrado de getafe y alcorcon son mucho mas elevados que fuenlabrada y leganes\n"
          ]
        }
      ],
      "source": [
        "ds[\"level5\"]\n",
        "poblaciones = [\"Fuenlabrada\", \"Leganés\", \"Getafe\", \"Alcorcón\"]\n",
        "\n",
        "#Modificando el dataFrame original por las poblaciones anteriores\n",
        "subconjunto = ds[ds[\"level5\"].isin(poblaciones)]\n",
        "\n",
        "#Calculando las medianas de la poblaciones\n",
        "grupo_poblaciones_mediana1 = subconjunto.groupby('level5')[['price']].mean()\n",
        "\n",
        "#Calculando las desviacion de la poblaciones\n",
        "grupo_poblaciones_mediana2 = subconjunto.groupby('level5')[['surface']].mean()\n",
        "\n",
        "#Calculo de precio promedio por metro cuadrado\n",
        "pps_valdemorillo = grupo_poblaciones_mediana1['price'] / grupo_poblaciones_mediana2['surface']\n",
        "print(pps_valdemorillo)\n",
        "print(f\"Los precios por metro cuadrado de getafe y alcorcon son mucho mas elevados que fuenlabrada y leganes\")\n",
        "\n",
        "#Definiendo Columnas para calcular el precio por metro caudrado\n",
        "precio_general = ds[\"price\"]\n",
        "superficie_general = ds[\"surface\"]\n",
        "\n",
        "#Calculo de precio por metro cuadrado\n",
        "precio_por_metro_cuadrado = precio_general / superficie_general\n",
        "\n",
        "#Agregando columna de precio por metro a la base de datos\n",
        "ds[\"pps\"] = precio_por_metro_cuadrado\n",
        "\n",
        "\n",
        "\n"
      ]
    },
    {
      "cell_type": "markdown",
      "id": "enhanced-moscow",
      "metadata": {
        "id": "enhanced-moscow"
      },
      "source": [
        "#### Ejercicio 20. Realiza el mismo gráfico para 4 poblaciones diferentes (columna level5) y colócalos en el mismo gráfico. Debes usar el subconjunto obtenido en la pregunta 14 (★★☆)\n",
        "Pista: Haz un diagrama de dispersión de cada población usando subgráficos (subplots)."
      ]
    },
    {
      "cell_type": "code",
      "execution_count": 84,
      "id": "accepting-airfare",
      "metadata": {
        "colab": {
          "base_uri": "https://localhost:8080/",
          "height": 1000
        },
        "id": "accepting-airfare",
        "outputId": "f036a977-8d79-4ca2-d441-db5e89ff1c08"
      },
      "outputs": [
        {
          "data": {
            "image/png": "[encoded data removed]",
            "text/plain": [
              "<Figure size 1200x1000 with 4 Axes>"
            ]
          },
          "metadata": {},
          "output_type": "display_data"
        }
      ],
      "source": [
        "import matplotlib.pyplot as plt\n",
        "import pandas as pd\n",
        "\n",
        "columna = ds[\"level5\"]\n",
        "poblaciones = [\"Fuenlabrada\", \"Leganés\", \"Getafe\", \"Alcorcón\"]\n",
        "\n",
        "subconjunto = ds[ds[\"level5\"].isin(poblaciones)]\n",
        "\n",
        "fig, axes = plt.subplots(2, 2, figsize=(12, 10))\n",
        "axes = axes.flatten()\n",
        "\n",
        "colors = [\"blue\", \"green\", \"red\", \"yellow\"]\n",
        "\n",
        "for grafico, (poblacion, color) in enumerate(zip(poblaciones, colors)):\n",
        "    ax = axes[grafico]\n",
        "    data_poblacion = subconjunto[subconjunto['level5'] == poblacion]\n",
        "    ax.scatter(data_poblacion[\"surface\"], data_poblacion[\"price\"], color=color, alpha=0.6)\n",
        "    ax.set_title(poblacion)\n",
        "    ax.set_xlabel(\"Superficie\")\n",
        "    ax.set_ylabel(\"Precio\")\n",
        "\n",
        "plt.tight_layout()\n",
        "plt.show()\n"
      ]
    },
    {
      "cell_type": "markdown",
      "id": "blocked-effects",
      "metadata": {
        "id": "blocked-effects"
      },
      "source": [
        "#### Ejercicio 21. Realiza un trazado de las coordenadas (columnas latitud y longitud) del cinturón sur de Madrid por color de cada población (debes usar el subconjunto obtenido del Ejercicio 14) (★★★★)\n",
        "\n",
        "Ejecuta la siguiente celda y luego comienza a codear en la siguiente. Debes implementar un código simple que transforme las columnas de coordenadas en un diccionario de Python (agrega más información si es necesario) y agrégala al mapa."
      ]
    },
    {
      "cell_type": "code",
      "execution_count": 85,
      "id": "headed-privacy",
      "metadata": {
        "colab": {
          "base_uri": "https://localhost:8080/",
          "height": 421,
          "referenced_widgets": [
            "554f313b1264405abeb9206f3ab7881a",
            "83d17a225409403f9c56df6524c9583b",
            "4228d5a5b0094f3cae1e426623661fbf",
            "77578fcd5377475fb6e8835e93d01354",
            "504f92169b4648ad8458fe1be7db756a",
            "c0bfe0ba3b0e4c03a6ce981934c6a4ac",
            "1632ff26bd0c4c48becf8cd41539a00f",
            "8d1720eb80ab465fae94991001ac7453"
          ]
        },
        "id": "headed-privacy",
        "outputId": "9b6f7ad5-ab5d-4bf3-aa9c-dc06baaac3e0"
      },
      "outputs": [
        {
          "data": {
            "application/vnd.jupyter.widget-view+json": {
              "model_id": "554f313b1264405abeb9206f3ab7881a",
              "version_major": 2,
              "version_minor": 0
            },
            "text/plain": [
              "Map(center=[40.35, -3.8], controls=(ZoomControl(options=['position', 'zoom_in_text', 'zoom_in_title', 'zoom_ou…"
            ]
          },
          "metadata": {
            "application/vnd.jupyter.widget-view+json": {
              "colab": {
                "custom_widget_manager": {
                  "url": "https://ssl.gstatic.com/colaboratory-static/widgets/colab-cdn-widget-manager/2b70e893a8ba7c0f/manager.min.js"
                }
              }
            }
          },
          "output_type": "display_data"
        }
      ],
      "source": [
        "from ipyleaflet import Map, basemaps\n",
        "import matplotlib.pyplot as plt\n",
        "\n",
        "ds[\"level5\"]\n",
        "poblaciones = [\"Fuenlabrada\", \"Leganés\", \"Getafe\", \"Alcorcón\"]\n",
        "\n",
        "#Modificando el dataFrame original por las poblaciones anteriores\n",
        "subconjunto = ds[ds[\"level5\"].isin(poblaciones)]\n",
        "\n",
        "# Mapa centrado en Madrid\n",
        "map = Map(center = (40.35, -3.8), zoom = 11.5, min_zoom = 1, max_zoom = 20,\n",
        "    basemap=basemaps.OpenStreetMap.Mapnik)\n",
        "map"
      ]
    },
    {
      "cell_type": "code",
      "execution_count": 86,
      "id": "present-mistress",
      "metadata": {
        "id": "present-mistress"
      },
      "outputs": [],
      "source": [
        "## Aquí: traza la coordenadas de los estados\n",
        "\n",
        "## PON TU CÓDIGO AQUÍ:\n"
      ]
    }
  ],
  "metadata": {
    "colab": {
      "provenance": []
    },
    "kernelspec": {
      "display_name": "Python 3",
      "language": "python",
      "name": "python3"
    },
    "language_info": {
      "codemirror_mode": {
        "name": "ipython",
        "version": 3
      },
      "file_extension": ".py",
      "mimetype": "text/x-python",
      "name": "python",
      "nbconvert_exporter": "python",
      "pygments_lexer": "ipython3",
      "version": "3.11.4"
    },
    "widgets": {
      "application/vnd.jupyter.widget-state+json": {
        "1632ff26bd0c4c48becf8cd41539a00f": {
          "model_module": "@jupyter-widgets/base",
          "model_module_version": "1.2.0",
          "model_name": "LayoutModel",
          "state": {
            "_model_module": "@jupyter-widgets/base",
            "_model_module_version": "1.2.0",
            "_model_name": "LayoutModel",
            "_view_count": null,
            "_view_module": "@jupyter-widgets/base",
            "_view_module_version": "1.2.0",
            "_view_name": "LayoutView",
            "align_content": null,
            "align_items": null,
            "align_self": null,
            "border": null,
            "bottom": null,
            "display": null,
            "flex": null,
            "flex_flow": null,
            "grid_area": null,
            "grid_auto_columns": null,
            "grid_auto_flow": null,
            "grid_auto_rows": null,
            "grid_column": null,
            "grid_gap": null,
            "grid_row": null,
            "grid_template_areas": null,
            "grid_template_columns": null,
            "grid_template_rows": null,
            "height": null,
            "justify_content": null,
            "justify_items": null,
            "left": null,
            "margin": null,
            "max_height": null,
            "max_width": null,
            "min_height": null,
            "min_width": null,
            "object_fit": null,
            "object_position": null,
            "order": null,
            "overflow": null,
            "overflow_x": null,
            "overflow_y": null,
            "padding": null,
            "right": null,
            "top": null,
            "visibility": null,
            "width": null
          }
        },
        "4228d5a5b0094f3cae1e426623661fbf": {
          "model_module": "jupyter-leaflet",
          "model_module_version": "^0.19",
          "model_name": "LeafletAttributionControlModel",
          "state": {
            "_model_module": "jupyter-leaflet",
            "_model_module_version": "^0.19",
            "_model_name": "LeafletAttributionControlModel",
            "_view_count": null,
            "_view_module": "jupyter-leaflet",
            "_view_module_version": "^0.19",
            "_view_name": "LeafletAttributionControlView",
            "options": [
              "position",
              "prefix"
            ],
            "position": "bottomright",
            "prefix": "ipyleaflet"
          }
        },
        "504f92169b4648ad8458fe1be7db756a": {
          "model_module": "jupyter-leaflet",
          "model_module_version": "^0.19",
          "model_name": "LeafletMapStyleModel",
          "state": {
            "_model_module": "jupyter-leaflet",
            "_model_module_version": "^0.19",
            "_model_name": "LeafletMapStyleModel",
            "_view_count": null,
            "_view_module": "@jupyter-widgets/base",
            "_view_module_version": "1.2.0",
            "_view_name": "StyleView",
            "cursor": "move"
          }
        },
        "554f313b1264405abeb9206f3ab7881a": {
          "model_module": "jupyter-leaflet",
          "model_module_version": "^0.19",
          "model_name": "LeafletMapModel",
          "state": {
            "_dom_classes": [],
            "_model_module": "jupyter-leaflet",
            "_model_module_version": "^0.19",
            "_model_name": "LeafletMapModel",
            "_view_count": null,
            "_view_module": "jupyter-leaflet",
            "_view_module_version": "^0.19",
            "_view_name": "LeafletMapView",
            "bottom": 395835,
            "bounce_at_zoom_limits": true,
            "box_zoom": true,
            "center": [
              40.35,
              -3.8
            ],
            "close_popup_on_click": true,
            "controls": [
              "IPY_MODEL_83d17a225409403f9c56df6524c9583b",
              "IPY_MODEL_4228d5a5b0094f3cae1e426623661fbf"
            ],
            "crs": {
              "custom": false,
              "name": "EPSG3857"
            },
            "default_style": "IPY_MODEL_77578fcd5377475fb6e8835e93d01354",
            "double_click_zoom": true,
            "dragging": true,
            "dragging_style": "IPY_MODEL_504f92169b4648ad8458fe1be7db756a",
            "east": -3.5815429687500004,
            "fullscreen": false,
            "inertia": true,
            "inertia_deceleration": 3000,
            "inertia_max_speed": 1500,
            "interpolation": "bilinear",
            "keyboard": true,
            "keyboard_pan_offset": 80,
            "keyboard_zoom_offset": 1,
            "layers": [
              "IPY_MODEL_c0bfe0ba3b0e4c03a6ce981934c6a4ac"
            ],
            "layout": "IPY_MODEL_1632ff26bd0c4c48becf8cd41539a00f",
            "left": 512584,
            "max_zoom": 20,
            "min_zoom": 1,
            "modisdate": "2025-05-27",
            "north": 40.40225486757065,
            "options": [
              "bounce_at_zoom_limits",
              "box_zoom",
              "center",
              "close_popup_on_click",
              "double_click_zoom",
              "dragging",
              "fullscreen",
              "inertia",
              "inertia_deceleration",
              "inertia_max_speed",
              "interpolation",
              "keyboard",
              "keyboard_pan_offset",
              "keyboard_zoom_offset",
              "max_zoom",
              "min_zoom",
              "prefer_canvas",
              "scroll_wheel_zoom",
              "tap",
              "tap_tolerance",
              "touch_zoom",
              "world_copy_jump",
              "zoom",
              "zoom_animation_threshold",
              "zoom_delta",
              "zoom_snap"
            ],
            "panes": {},
            "prefer_canvas": false,
            "right": 513856,
            "scroll_wheel_zoom": false,
            "south": 40.297595783346516,
            "style": "IPY_MODEL_8d1720eb80ab465fae94991001ac7453",
            "tap": true,
            "tap_tolerance": 15,
            "top": 395435,
            "touch_zoom": true,
            "west": -4.018249511718751,
            "window_url": "https://6fe2get23l4-496ff2e9c6d22116-0-colab.googleusercontent.com/outputframe.html?vrz=colab_20250523-060037_RC00_762368262",
            "world_copy_jump": false,
            "zoom": 11.5,
            "zoom_animation_threshold": 4,
            "zoom_delta": 1,
            "zoom_snap": 1
          }
        },
        "77578fcd5377475fb6e8835e93d01354": {
          "model_module": "jupyter-leaflet",
          "model_module_version": "^0.19",
          "model_name": "LeafletMapStyleModel",
          "state": {
            "_model_module": "jupyter-leaflet",
            "_model_module_version": "^0.19",
            "_model_name": "LeafletMapStyleModel",
            "_view_count": null,
            "_view_module": "@jupyter-widgets/base",
            "_view_module_version": "1.2.0",
            "_view_name": "StyleView",
            "cursor": "grab"
          }
        },
        "83d17a225409403f9c56df6524c9583b": {
          "model_module": "jupyter-leaflet",
          "model_module_version": "^0.19",
          "model_name": "LeafletZoomControlModel",
          "state": {
            "_model_module": "jupyter-leaflet",
            "_model_module_version": "^0.19",
            "_model_name": "LeafletZoomControlModel",
            "_view_count": null,
            "_view_module": "jupyter-leaflet",
            "_view_module_version": "^0.19",
            "_view_name": "LeafletZoomControlView",
            "options": [
              "position",
              "zoom_in_text",
              "zoom_in_title",
              "zoom_out_text",
              "zoom_out_title"
            ],
            "position": "topleft",
            "zoom_in_text": "+",
            "zoom_in_title": "Zoom in",
            "zoom_out_text": "-",
            "zoom_out_title": "Zoom out"
          }
        },
        "8d1720eb80ab465fae94991001ac7453": {
          "model_module": "jupyter-leaflet",
          "model_module_version": "^0.19",
          "model_name": "LeafletMapStyleModel",
          "state": {
            "_model_module": "jupyter-leaflet",
            "_model_module_version": "^0.19",
            "_model_name": "LeafletMapStyleModel",
            "_view_count": null,
            "_view_module": "@jupyter-widgets/base",
            "_view_module_version": "1.2.0",
            "_view_name": "StyleView",
            "cursor": "grab"
          }
        },
        "c0bfe0ba3b0e4c03a6ce981934c6a4ac": {
          "model_module": "jupyter-leaflet",
          "model_module_version": "^0.19",
          "model_name": "LeafletTileLayerModel",
          "state": {
            "_model_module": "jupyter-leaflet",
            "_model_module_version": "^0.19",
            "_model_name": "LeafletTileLayerModel",
            "_view_count": null,
            "_view_module": "jupyter-leaflet",
            "_view_module_version": "^0.19",
            "_view_name": "LeafletTileLayerView",
            "attribution": "&copy; <a href=\"https://www.openstreetmap.org/copyright\">OpenStreetMap</a> contributors",
            "base": true,
            "bottom": true,
            "bounds": null,
            "detect_retina": false,
            "loading": false,
            "max_native_zoom": null,
            "max_zoom": 19,
            "min_native_zoom": null,
            "min_zoom": 1,
            "name": "OpenStreetMap.Mapnik",
            "no_wrap": false,
            "opacity": 1,
            "options": [
              "attribution",
              "bounds",
              "detect_retina",
              "max_native_zoom",
              "max_zoom",
              "min_native_zoom",
              "min_zoom",
              "no_wrap",
              "tile_size",
              "tms",
              "zoom_offset"
            ],
            "pane": "",
            "popup": null,
            "popup_max_height": null,
            "popup_max_width": 300,
            "popup_min_width": 50,
            "show_loading": false,
            "subitems": [],
            "tile_size": 256,
            "tms": false,
            "url": "https://tile.openstreetmap.org/{z}/{x}/{y}.png",
            "visible": true,
            "zoom_offset": 0
          }
        }
      }
    }
  },
  "nbformat": 4,
  "nbformat_minor": 5
}
